{
 "cells": [
  {
   "cell_type": "markdown",
   "metadata": {
    "id": "O9wlx8wSpIi9"
   },
   "source": [
    "# Deep Q-Network implementation\n",
    "\n",
    "This notebook shamelessly demands you to implement a DQN - an approximate q-learning algorithm with experience replay and target networks - and see if it works any better this way.\n",
    "\n",
    "Based on Yandex School of Data Analysis Practical RL course."
   ]
  },
  {
   "cell_type": "code",
   "execution_count": 1,
   "metadata": {
    "collapsed": true,
    "id": "i8q_pgOXpIi_",
    "colab": {
     "base_uri": "https://localhost:8080/"
    },
    "outputId": "b4eb1d38-0eae-4bfb-a2c6-c24cf150372c"
   },
   "outputs": [
    {
     "name": "stdout",
     "output_type": "stream",
     "text": [
      "env: DISPLAY=:1\n"
     ]
    },
    {
     "name": "stderr",
     "output_type": "stream",
     "text": [
      "/bin/bash: ../xvfb: No such file or directory\n"
     ]
    }
   ],
   "source": [
    "import os\n",
    "if type(os.environ.get(\"DISPLAY\")) is not str or len(os.environ.get(\"DISPLAY\"))==0:\n",
    "    !bash ../xvfb start\n",
    "    %env DISPLAY=:1"
   ]
  },
  {
   "cell_type": "code",
   "execution_count": 1,
   "metadata": {
    "collapsed": true,
    "id": "HFCWxsAkpIjA"
   },
   "outputs": [],
   "source": [
    "import gymnasium as gym\n",
    "import numpy as np\n",
    "import matplotlib.pyplot as plt\n",
    "from numpy import ndarray\n",
    "from tqdm import tqdm\n",
    "%matplotlib inline"
   ]
  },
  {
   "cell_type": "markdown",
   "metadata": {
    "id": "i9eKYAoIpIjA"
   },
   "source": [
    "### Let's play some old videogames\n",
    "![img](https://github.com/yandexdataschool/Practical_RL/raw/master/yet_another_week/_resource/nerd.png)\n",
    "\n",
    "This time we're gonna apply approximate q-learning to an atari game called Breakout. It's not the hardest thing out there, but it's definitely way more complex than anything we tried before.\n"
   ]
  },
  {
   "cell_type": "markdown",
   "metadata": {
    "id": "RJhThPOKpIjA"
   },
   "source": [
    "### Processing game image \n",
    "\n",
    "Raw atari images are large, 210x160x3 by default. However, we don't need that level of detail in order to learn them.\n",
    "\n",
    "We can thus save a lot of time by preprocessing game image, including\n",
    "* Resizing to a smaller shape, 64 x 64\n",
    "* Converting to grayscale\n",
    "* Cropping irrelevant image parts (top & bottom)"
   ]
  },
  {
   "cell_type": "code",
   "source": [
    "import cv2\n",
    "from gymnasium.core import ObservationWrapper\n",
    "from gymnasium.spaces import Box\n",
    "\n",
    "class PreprocessAtari(ObservationWrapper):\n",
    "    def __init__(self, env):\n",
    "        \"\"\"A gym wrapper that crops, scales image into the desired shapes and optionally grayscales it.\"\"\"\n",
    "        ObservationWrapper.__init__(self, env)\n",
    "\n",
    "        self.img_size = (64, 64)\n",
    "        self.observation_space = Box(0.0, 1.0, (1, self.img_size[0], self.img_size[1]))\n",
    "\n",
    "    def observation(self, img):\n",
    "        \"\"\"what happens to each observation\"\"\"\n",
    "\n",
    "        # Here's what you need to do:\n",
    "        #  * Crop image, remove irrelevant parts.\n",
    "        #  * Resize image to self.img_size. Use cv2.resize or any other library you want,\n",
    "        #    e.g. PIL or Keras. Do not use skimage.transform.resize because it is roughly\n",
    "        #    6x slower than cv2.resize.\n",
    "        #  * Cast image to grayscale.\n",
    "        #  * Convert image pixels to (0, 1) range, float32 type.\n",
    "        img = cv2.cvtColor(img, cv2.COLOR_BGR2GRAY)\n",
    "        # img = img[32:195, 8:152]\n",
    "        img = img / 255\n",
    "        img = cv2.resize(img, self.img_size)\n",
    "        img = np.expand_dims(img, axis=0)\n",
    "\n",
    "        return img.astype(np.float32)\n",
    "    \n"
   ],
   "metadata": {
    "id": "sdpPAb2ByhFf",
    "colab": {
     "base_uri": "https://localhost:8080/"
    },
    "outputId": "65baac2e-3ba9-4c17-8402-f5fe2403883a"
   },
   "execution_count": 25,
   "outputs": []
  },
  {
   "cell_type": "markdown",
   "metadata": {
    "id": "UgvevvBIpIjB"
   },
   "source": [
    "### Frame buffer\n",
    "\n",
    "Our agent can only process one observation at a time, so we gotta make sure it contains enough information to fing optimal actions. For instance, agent has to react to moving objects so he must be able to measure object's velocity.\n",
    "\n",
    "To do so, we introduce a buffer that stores 4 last images. This time everything is pre-implemented for you."
   ]
  },
  {
   "cell_type": "code",
   "source": [
    "from gymnasium.spaces.box import Box\n",
    "from gymnasium.core import Wrapper\n",
    "\n",
    "class FrameBuffer(Wrapper):\n",
    "    def __init__(self, env, n_frames=4, dim_order='tensorflow'):\n",
    "        \"\"\"A gym wrapper that reshapes, crops and scales image into the desired shapes\"\"\"\n",
    "        super(FrameBuffer, self).__init__(env)\n",
    "        self.dim_order = dim_order\n",
    "        if dim_order == 'tensorflow':\n",
    "            height, width, n_channels = env.observation_space.shape\n",
    "            obs_shape = [height, width, n_channels * n_frames]\n",
    "        elif dim_order == 'pytorch':\n",
    "            n_channels, height, width = env.observation_space.shape\n",
    "            obs_shape = [n_channels * n_frames, height, width]\n",
    "        else:\n",
    "            raise ValueError('dim_order should be \"tensorflow\" or \"pytorch\", got {}'.format(dim_order))\n",
    "        self.observation_space = Box(0.0, 1.0, obs_shape)\n",
    "        self.framebuffer = np.zeros(obs_shape, 'float32')\n",
    "        \n",
    "    def reset(self):\n",
    "        \"\"\"resets breakout, returns initial frames\"\"\"\n",
    "        self.framebuffer = np.zeros_like(self.framebuffer)\n",
    "        self.update_buffer(self.env.reset()[0])\n",
    "        return self.framebuffer\n",
    "    \n",
    "    def step(self, action):\n",
    "        \"\"\"plays breakout for 1 step, returns frame buffer\"\"\"\n",
    "        new_img, reward, done, info, _ = self.env.step(action)\n",
    "        self.update_buffer(new_img)\n",
    "        return self.framebuffer, reward, done, info\n",
    "    \n",
    "    def update_buffer(self, img):\n",
    "        if self.dim_order == 'tensorflow':\n",
    "            offset = self.env.observation_space.shape[-1]\n",
    "            axis = -1\n",
    "            cropped_framebuffer = self.framebuffer[:,:,:-offset]\n",
    "        else:\n",
    "            offset = self.env.observation_space.shape[0]\n",
    "            axis = 0\n",
    "            cropped_framebuffer = self.framebuffer[:-offset]\n",
    "        self.framebuffer = np.concatenate([img, cropped_framebuffer], axis = axis)"
   ],
   "metadata": {
    "id": "za3pVaaWqnwX"
   },
   "execution_count": 26,
   "outputs": []
  },
  {
   "cell_type": "code",
   "execution_count": 27,
   "metadata": {
    "collapsed": true,
    "scrolled": false,
    "id": "wWEBJq27pIjC"
   },
   "outputs": [],
   "source": [
    "def make_env():\n",
    "    env = gym.make(\"BreakoutDeterministic-v4\")\n",
    "    env = PreprocessAtari(env)\n",
    "    env = FrameBuffer(env, n_frames=4, dim_order='pytorch')\n",
    "    return env\n",
    "\n",
    "env = make_env()"
   ]
  },
  {
   "cell_type": "code",
   "execution_count": 28,
   "outputs": [],
   "source": [
    "state = env.reset()"
   ],
   "metadata": {
    "collapsed": false
   }
  },
  {
   "cell_type": "code",
   "execution_count": 29,
   "outputs": [
    {
     "data": {
      "text/plain": "(4, 64, 64)"
     },
     "execution_count": 29,
     "metadata": {},
     "output_type": "execute_result"
    }
   ],
   "source": [
    "state.shape"
   ],
   "metadata": {
    "collapsed": false
   }
  },
  {
   "cell_type": "code",
   "source": [
    "class ReplayBuffer(object):\n",
    "    def __init__(self, mem_size, state_shape):\n",
    "        self.mem_size = mem_size\n",
    "        self.mem_cntr = 0\n",
    "        self.state_memory = np.zeros((self.mem_size, *state_shape), dtype=np.float32)\n",
    "        self.new_state_memory = np.zeros((self.mem_size, *state_shape), dtype=np.float32)\n",
    "        self.action_memory = np.zeros(self.mem_size, dtype=np.int32)\n",
    "        self.reward_memory = np.zeros(self.mem_size, dtype=np.float32)\n",
    "        self.terminal_memory = np.zeros(self.mem_size, dtype=bool)\n",
    "\n",
    "    def store_transition(self, state, action, reward, _state, done):\n",
    "        index = self.mem_cntr % self.mem_size\n",
    "        self.state_memory[index] = state\n",
    "        self.new_state_memory[index] = _state\n",
    "        self.action_memory[index] = action\n",
    "        self.reward_memory[index] = reward\n",
    "        self.terminal_memory[index] = done\n",
    "        self.mem_cntr += 1\n",
    "\n",
    "    @staticmethod\n",
    "    def _softmax(x: ndarray) -> ndarray:\n",
    "        return np.exp(x) / np.exp(x).sum()\n",
    "\n",
    "    def sample_buffer(self, batch_size):\n",
    "        max_mem = min(self.mem_cntr, self.mem_size)\n",
    "\n",
    "        batch = np.random.choice(max_mem, batch_size)\n",
    "\n",
    "        states = self.state_memory[batch]\n",
    "        actions = self.action_memory[batch]\n",
    "        rewards = self.reward_memory[batch]\n",
    "        _states = self.new_state_memory[batch]\n",
    "        done = self.terminal_memory[batch]\n",
    "\n",
    "        return states, actions, rewards, _states, done"
   ],
   "metadata": {
    "id": "9hHRRd5dn24n"
   },
   "execution_count": 30,
   "outputs": []
  },
  {
   "cell_type": "code",
   "source": [
    "import torch as T\n",
    "import torch.nn as nn\n",
    "import torch.nn.functional as F\n",
    "import torch.optim as optim"
   ],
   "metadata": {
    "id": "XIsmKPGyvmMC"
   },
   "execution_count": 31,
   "outputs": []
  },
  {
   "cell_type": "code",
   "source": [
    "# def DQN(state_size, action_size):\n",
    "#     model = Sequential()\n",
    "#     model.add(Conv2D(filters=16, kernel_size=3, activation='relu', input_shape=state_size))\n",
    "#     model.add(Conv2D(filters=32, kernel_size=3, activation='relu'))\n",
    "#     model.add(Conv2D(filters=64, kernel_size=1, activation='relu'))\n",
    "#     model.add(Flatten())\n",
    "#     model.add(Dense(units=128, activation='relu'))\n",
    "#     model.add(Dense(units=256, activation='relu'))\n",
    "#     model.add(Dense(units=action_size, activation=None))\n",
    "#     model.compile(optimizer='adam', loss='mse')\n",
    "#     return model\n",
    "\n",
    "class DQN(nn.Module):\n",
    "    def __init__(self, lr, state_shape, n_actions):\n",
    "        super(DQN, self).__init__()\n",
    "\n",
    "        self.conv1 = nn.Conv2d(state_shape[0], 16, 3, stride=2)\n",
    "        self.conv2 = nn.Conv2d(16, 32, 3, stride=2)\n",
    "        self.conv3 = nn.Conv2d(32, 64, 3, stride=2)\n",
    "        # self.conv4 = nn.Conv2d(128, 256, 1, stride=2)\n",
    "\n",
    "        self.flatten = nn.Flatten()\n",
    "\n",
    "        self.fc1 = nn.Linear(3136, 256)\n",
    "        self.fc2 = nn.Linear(256, 512)\n",
    "        self.output = nn.Linear(512, n_actions)\n",
    "        self.optimizer = optim.Adam(self.parameters(), lr=lr)\n",
    "        self.loss = nn.MSELoss()\n",
    "        self.device = T.device('cuda:0') if T.cuda.is_available() else T.device('cpu')\n",
    "        self.to(self.device)\n",
    "\n",
    "    def forward(self, state):\n",
    "        state = F.relu(self.conv1(state))\n",
    "        state = F.relu(self.conv2(state))\n",
    "        state = F.relu(self.conv3(state))\n",
    "        # state = F.relu(self.conv4(state))\n",
    "        state = self.flatten(state)\n",
    "        # print(f'after conv: {state.shape}')\n",
    "\n",
    "        state = F.relu(self.fc1(state))\n",
    "        state = F.relu(self.fc2(state))\n",
    "        actions = self.output(state)\n",
    "\n",
    "        return actions\n"
   ],
   "metadata": {
    "colab": {
     "base_uri": "https://localhost:8080/"
    },
    "id": "xxszeJz-shgp",
    "outputId": "1a990e0f-9f72-435c-f7b4-d932093e1fdb"
   },
   "execution_count": 32,
   "outputs": []
  },
  {
   "cell_type": "code",
   "source": [
    "class DDQNAgent:\n",
    "    def __init__(self, state_size, action_size, learning_rate, update_rate=500):\n",
    "        self.state_size = state_size\n",
    "        self.action_size = action_size\n",
    "        self.memory = ReplayBuffer(50_000, state_size)\n",
    "        self.gamma = 0.95    # discount rate\n",
    "        self.epsilon = 1  # exploration rate\n",
    "        self.epsilon_min = 0.01\n",
    "        self.epsilon_decay = 0.005\n",
    "        self.network_sync_rate = update_rate\n",
    "        self.update_cntr = 0\n",
    "        self.q = DQN(learning_rate, state_size, action_size)\n",
    "        self.q_target = DQN(learning_rate, state_size, action_size)\n",
    "        self.update_weights()\n",
    "        self.evaluate=False\n",
    "\n",
    "    def store_transition(self, state, action, reward, _state, done):\n",
    "        self.memory.store_transition(state, action, reward, _state, done)\n",
    "\n",
    "    def choose_action(self, state):\n",
    "        if np.random.random() <= self.epsilon and not self.evaluate:\n",
    "            action = np.random.choice(self.action_size)\n",
    "        else:\n",
    "            state = T.tensor(state).to(self.q.device)\n",
    "            actions = self.q.forward(state)\n",
    "            action = T.argmax(actions).item()\n",
    "\n",
    "        return action\n",
    "\n",
    "    def get_best_action(self, state):\n",
    "        state = T.tensor(state).to(self.q.device)\n",
    "        actions = self.q.forward(state)\n",
    "        action = T.argmax(actions).item()\n",
    "\n",
    "        return action\n",
    "\n",
    "    def learn(self, batch_size):\n",
    "        if self.memory.mem_cntr < batch_size:\n",
    "            return\n",
    "\n",
    "        states, actions, rewards, _states, done = self.memory.sample_buffer(batch_size)\n",
    "\n",
    "        states = T.tensor(states).to(self.q.device)\n",
    "        _states = T.tensor(_states).to(self.q_target.device)\n",
    "\n",
    "        q_test = self.q(states)\n",
    "        with T.no_grad():\n",
    "            q_next = self.q_target.forward(_states).cpu().detach().numpy()\n",
    "            q_target = q_test.cpu().detach().numpy().copy()\n",
    "\n",
    "            max_actions = np.argmax(q_next, axis=1)\n",
    "\n",
    "            batch_index = np.arange(batch_size, dtype=np.int32)\n",
    "\n",
    "            q_target[batch_index, actions] = rewards + self.gamma * q_next[batch_index, max_actions] * (1-done)\n",
    "            q_target = T.tensor(q_target).to(self.q.device)\n",
    "\n",
    "        q_pred = self.q(states)\n",
    "        self.q.optimizer.zero_grad()\n",
    "        loss = self.q.loss(q_pred, q_target).to(self.q.device)\n",
    "        loss.backward()\n",
    "        self.q.optimizer.step()\n",
    "\n",
    "    def update_epsilon_value(self):\n",
    "        self.epsilon = self.epsilon - self.epsilon_decay if self.epsilon > self.epsilon_min else self.epsilon_min\n",
    "\n",
    "    def update_weights(self):\n",
    "        self.q_target.load_state_dict(self.q.state_dict())"
   ],
   "metadata": {
    "id": "Y4MSQW3YopN5",
    "colab": {
     "base_uri": "https://localhost:8080/"
    },
    "outputId": "ebc85e5e-b010-4295-9d37-d53fcf5a997c"
   },
   "execution_count": 33,
   "outputs": []
  },
  {
   "cell_type": "code",
   "execution_count": 34,
   "metadata": {
    "collapsed": true,
    "id": "LpGgZ-5BpIjC",
    "colab": {
     "base_uri": "https://localhost:8080/",
     "height": 207
    },
    "outputId": "c03f27d3-a033-42b8-c227-ade3a4520e77"
   },
   "outputs": [
    {
     "data": {
      "text/plain": "<matplotlib.image.AxesImage at 0x23287f48d60>"
     },
     "execution_count": 34,
     "metadata": {},
     "output_type": "execute_result"
    },
    {
     "data": {
      "text/plain": "<Figure size 640x480 with 1 Axes>",
      "image/png": "[encoded data removed]"
     },
     "metadata": {},
     "output_type": "display_data"
    }
   ],
   "source": [
    "from einops import rearrange\n",
    "\n",
    "env.reset()\n",
    "for _ in range(50):\n",
    "    obs, _, _, _ = env.step(env.action_space.sample())\n",
    "\n",
    "\n",
    "plt.title(\"Game image\")\n",
    "# plt.imshow(env.render(\"rgb_array\"))\n",
    "# plt.show()\n",
    "plt.title(\"Agent observation (4 frames left to right)\")\n",
    "obs = np.c_[obs[0], obs[1], obs[2], obs[3]]\n",
    "# obs = rearrange(obs, 'c h w -> h (w c)')\n",
    "plt.imshow(obs)"
   ]
  },
  {
   "cell_type": "code",
   "source": [
    "EPOCHS = 100_000\n",
    "BATCH_SIZE = 64"
   ],
   "metadata": {
    "id": "86TJ8BkAyxZk"
   },
   "execution_count": 42,
   "outputs": []
  },
  {
   "cell_type": "code",
   "source": [
    "def play_and_record(agent, env, n_steps=1):\n",
    "    state = env.framebuffer\n",
    "    cum_reward = 0\n",
    "\n",
    "    for n in range(n_steps):\n",
    "        state = np.expand_dims(state, axis=0)\n",
    "        action = agent.choose_action(state)\n",
    "        _state, reward, terminal, _ = env.step(action)\n",
    "        cum_reward += reward\n",
    "\n",
    "        agent.store_transition(state, action, reward, _state, terminal)\n",
    "        state = _state\n",
    "\n",
    "        if terminal:\n",
    "            state = env.reset()\n",
    "\n",
    "    return cum_reward"
   ],
   "metadata": {
    "id": "HvJkG2lMay38"
   },
   "execution_count": 49,
   "outputs": []
  },
  {
   "cell_type": "code",
   "source": [
    "def evaluate(env, agent, n_games=1, greedy=False, t_max=10000):\n",
    "    \"\"\" Plays n_games full games. If greedy, picks actions as argmax(qvalues). Returns mean reward. \"\"\"\n",
    "    rewards = []\n",
    "    for _ in range(n_games):\n",
    "        state = env.reset()\n",
    "        reward = 0\n",
    "        for _ in range(t_max):\n",
    "            state = np.expand_dims(state, axis=0)\n",
    "            action = agent.get_best_action(state) if greedy else agent.choose_action(state)\n",
    "            state, r, done, _ = env.step(action)\n",
    "            reward += r\n",
    "            if done:\n",
    "                break\n",
    "                \n",
    "        rewards.append(reward)\n",
    "    return np.mean(rewards)"
   ],
   "metadata": {
    "id": "NWug9OAgcaAQ"
   },
   "execution_count": 50,
   "outputs": []
  },
  {
   "cell_type": "code",
   "execution_count": 51,
   "outputs": [],
   "source": [
    "from IPython.display import clear_output\n",
    "import matplotlib.pyplot as plt\n",
    "%matplotlib inline\n",
    "\n",
    "mean_rw_history = []\n",
    "epsilons = []"
   ],
   "metadata": {
    "collapsed": false
   }
  },
  {
   "cell_type": "code",
   "execution_count": 52,
   "outputs": [],
   "source": [
    "agent = DDQNAgent(env.observation_space.shape, env.action_space.n, learning_rate=1e-3)"
   ],
   "metadata": {
    "collapsed": false
   }
  },
  {
   "cell_type": "code",
   "source": [
    "progress_bar = tqdm(range(EPOCHS))\n",
    "for i in progress_bar:\n",
    "    \n",
    "    # play\n",
    "    play_and_record(agent, env, 10)\n",
    "    \n",
    "    # train\n",
    "    agent.learn(BATCH_SIZE)\n",
    "    \n",
    "    # adjust agent parameters\n",
    "    if i % 500 == 0:\n",
    "        agent.update_weights()\n",
    "        agent.update_epsilon_value()\n",
    "        mean_rw_history.append(evaluate(make_env(), agent, n_games=3))\n",
    "        epsilons.append(agent.epsilon)\n",
    "\n",
    "    if i % 100 == 0:\n",
    "        clear_output(True)\n",
    "        print(\"epsilon = %.5f\" % agent.epsilon)\n",
    "        print(f'epoch {i}: mean reward = {mean_rw_history[-1]:.3f}')\n",
    "\n",
    "        # plt.title(\"mean reward per game\")\n",
    "\n",
    "        fig, ax1 = plt.subplots()\n",
    "\n",
    "        color = 'tab:red'\n",
    "        ax1.set_xlabel('Game')\n",
    "        ax1.set_ylabel('Average score', color=color)\n",
    "        ax1.plot(mean_rw_history, color=color)\n",
    "        ax1.tick_params(axis='y', labelcolor=color)\n",
    "\n",
    "        ax2 = ax1.twinx()  # instantiate a second axes that shares the same x-axis\n",
    "\n",
    "        color = 'tab:blue'\n",
    "        ax2.set_ylabel('Epsilon', color=color)  # we already handled the x-label with ax1\n",
    "        ax2.plot(epsilons, color=color)\n",
    "        ax2.tick_params(axis='y', labelcolor=color)\n",
    "\n",
    "        fig.tight_layout()  # otherwise the right y-label is slightly clipped\n",
    "        plt.show()\n"
   ],
   "metadata": {
    "id": "NJJbby-_yxPM",
    "colab": {
     "base_uri": "https://localhost:8080/",
     "height": 487
    },
    "outputId": "4eadde06-7fdd-4d9b-edea-6f6445cb9ee5"
   },
   "execution_count": 53,
   "outputs": [
    {
     "name": "stdout",
     "output_type": "stream",
     "text": [
      "epsilon = 0.01000\n",
      "epoch 99900: mean reward = 0.000\n"
     ]
    },
    {
     "data": {
      "text/plain": "<Figure size 640x480 with 2 Axes>",
      "image/png": "[encoded data removed]"
     },
     "metadata": {},
     "output_type": "display_data"
    },
    {
     "name": "stderr",
     "output_type": "stream",
     "text": [
      "100%|██████████| 100000/100000 [49:59<00:00, 33.34it/s]\n"
     ]
    }
   ]
  },
  {
   "cell_type": "code",
   "source": [
    "eval = evaluate(make_env(), agent, n_games=10)"
   ],
   "metadata": {
    "id": "QD4i0EXgZ1tf"
   },
   "execution_count": 59,
   "outputs": []
  },
  {
   "cell_type": "code",
   "source": [
    "print(f'Average score: {eval}')"
   ],
   "metadata": {
    "id": "dlfTqWrKZ1qW"
   },
   "execution_count": 60,
   "outputs": [
    {
     "name": "stdout",
     "output_type": "stream",
     "text": [
      "Average score: 11.0\n"
     ]
    }
   ]
  },
  {
   "cell_type": "code",
   "source": [],
   "metadata": {
    "id": "VBOf4w2QZ1n3"
   },
   "execution_count": null,
   "outputs": []
  },
  {
   "cell_type": "code",
   "source": [],
   "metadata": {
    "id": "0PyOhPfeZ1lH"
   },
   "execution_count": null,
   "outputs": []
  },
  {
   "cell_type": "code",
   "source": [],
   "metadata": {
    "id": "eymSO4Y5Z1if"
   },
   "execution_count": null,
   "outputs": []
  },
  {
   "cell_type": "markdown",
   "metadata": {
    "id": "hDYxJ0PLpIjC"
   },
   "source": [
    "### Building a network\n",
    "\n",
    "We now need to build a neural network that can map images to state q-values. This network will be called on every agent's step so it better not be resnet-152 unless you have an array of GPUs. Instead, you can use strided convolutions with a small number of features to save time and memory.\n",
    "\n",
    "You can build any architecture you want, but for reference, here's something that will more or less work:"
   ]
  },
  {
   "cell_type": "markdown",
   "metadata": {
    "id": "32PlDCSbpIjC"
   },
   "source": [
    "![img](https://github.com/yandexdataschool/Practical_RL/raw/master/yet_another_week/_resource/dqn_arch.png)"
   ]
  },
  {
   "cell_type": "code",
   "execution_count": null,
   "metadata": {
    "collapsed": true,
    "id": "FzaLNEcspIjC"
   },
   "outputs": [],
   "source": [
    "import tensorflow.compat.v1 as tf\n",
    "tf.disable_v2_behavior()\n",
    "tf.reset_default_graph()\n",
    "sess = tf.InteractiveSession()"
   ]
  },
  {
   "cell_type": "code",
   "execution_count": null,
   "metadata": {
    "collapsed": true,
    "id": "nMTzKp9dpIjD"
   },
   "outputs": [],
   "source": [
    "from keras.layers import Conv2D, Dense, Flatten\n",
    "import keras\n",
    "class DQNAgentasdaSD:\n",
    "    def __init__(self, name, state_shape, n_actions, epsilon=0, reuse=False):\n",
    "        \"\"\"A simple DQN agent\"\"\"\n",
    "        with tf.variable_scope(name, reuse=reuse):\n",
    "            \n",
    "            <YOUR CODE: define your network body here. Please make sure you don't use any layers created elsewhere>\n",
    "\n",
    "            # prepare a graph for agent step\n",
    "            self.state_t = tf.placeholder('float32', [None,] + list(state_shape))\n",
    "            self.qvalues_t = self.get_symbolic_qvalues(self.state_t)\n",
    "            \n",
    "        self.weights = tf.get_collection(tf.GraphKeys.TRAINABLE_VARIABLES, scope=name)\n",
    "        self.epsilon = epsilon\n",
    "\n",
    "    def get_symbolic_qvalues(self, state_t):\n",
    "        \"\"\"takes agent's observation, returns qvalues. Both are tf Tensors\"\"\"\n",
    "        < apply your network layers here >\n",
    "        qvalues = < symbolic tensor for q-values >\n",
    "\n",
    "        \n",
    "        assert tf.is_numeric_tensor(qvalues) and qvalues.shape.ndims == 2, \\\n",
    "            \"please return 2d tf tensor of qvalues [you got %s]\" % repr(qvalues)\n",
    "        assert int(qvalues.shape[1]) == n_actions\n",
    "        \n",
    "        return qvalues\n",
    "    \n",
    "    def get_qvalues(self, state_t):\n",
    "        \"\"\"Same as symbolic step except it operates on numpy arrays\"\"\"\n",
    "        sess = tf.get_default_session()\n",
    "        return sess.run(self.qvalues_t, {self.state_t: state_t})\n",
    "    \n",
    "    def sample_actions(self, qvalues):\n",
    "        \"\"\"pick actions given qvalues. Uses epsilon-greedy exploration strategy. \"\"\"\n",
    "        epsilon = self.epsilon\n",
    "        batch_size, n_actions = qvalues.shape\n",
    "        random_actions = np.random.choice(n_actions, size=batch_size)\n",
    "        best_actions = qvalues.argmax(axis=-1)\n",
    "        should_explore = np.random.choice([0, 1], batch_size, p = [1-epsilon, epsilon])\n",
    "        return np.where(should_explore, random_actions, best_actions)"
   ]
  },
  {
   "cell_type": "code",
   "execution_count": null,
   "metadata": {
    "collapsed": true,
    "id": "7JbUbRFgpIjD"
   },
   "outputs": [],
   "source": [
    "# agent = DQNAgent(\"dqn_agent\", state_dim, n_actions, epsilon=0.5)\n",
    "# sess.run(tf.global_variables_initializer())"
   ]
  },
  {
   "cell_type": "markdown",
   "metadata": {
    "id": "3b0_Ha6PpIjD"
   },
   "source": [
    "Now let's try out our agent to see if it raises any errors."
   ]
  },
  {
   "cell_type": "code",
   "execution_count": null,
   "metadata": {
    "collapsed": true,
    "id": "vEGIgty6pIjD"
   },
   "outputs": [],
   "source": [
    "def evaluate(env, agent, n_games=1, greedy=False, t_max=10000):\n",
    "    \"\"\" Plays n_games full games. If greedy, picks actions as argmax(qvalues). Returns mean reward. \"\"\"\n",
    "    rewards = []\n",
    "    for _ in range(n_games):\n",
    "        s = env.reset()\n",
    "        reward = 0\n",
    "        for _ in range(t_max):\n",
    "            qvalues = agent.get_qvalues([s])\n",
    "            action = qvalues.argmax(axis=-1)[0] if greedy else agent.sample_actions(qvalues)[0]\n",
    "            s, r, done, _ = env.step(action)\n",
    "            reward += r\n",
    "            if done: break\n",
    "                \n",
    "        rewards.append(reward)\n",
    "    return np.mean(rewards)"
   ]
  },
  {
   "cell_type": "code",
   "execution_count": null,
   "metadata": {
    "collapsed": true,
    "id": "TeIZ-tFXpIjE"
   },
   "outputs": [],
   "source": [
    "evaluate(env, agent, n_games=1)"
   ]
  },
  {
   "cell_type": "markdown",
   "metadata": {
    "id": "qWH6apQipIjE"
   },
   "source": [
    "### Experience replay\n",
    "For this assignment, we provide you with experience replay buffer. If you implemented experience replay buffer in last week's assignment, you can copy-paste it here __to get 2 bonus points__.\n",
    "\n",
    "![img](https://github.com/yandexdataschool/Practical_RL/raw/master/yet_another_week/_resource/exp_replay.png)"
   ]
  },
  {
   "cell_type": "markdown",
   "metadata": {
    "id": "rNFeeb_KpIjE"
   },
   "source": [
    "#### The interface is fairly simple:\n",
    "* `exp_replay.add(obs, act, rw, next_obs, done)` - saves (s,a,r,s',done) tuple into the buffer\n",
    "* `exp_replay.sample(batch_size)` - returns observations, actions, rewards, next_observations and is_done for `batch_size` random samples.\n",
    "* `len(exp_replay)` - returns number of elements stored in replay buffer."
   ]
  },
  {
   "cell_type": "code",
   "source": [
    "class ReplayBuffer(object):\n",
    "    def __init__(self, size):\n",
    "        \"\"\"Create Replay buffer.\n",
    "        Parameters\n",
    "        ----------\n",
    "        size: int\n",
    "            Max number of transitions to store in the buffer. When the buffer\n",
    "            overflows the old memories are dropped.\n",
    "        \"\"\"\n",
    "        self._storage = []\n",
    "        self._maxsize = size\n",
    "        self._next_idx = 0\n",
    "\n",
    "    def __len__(self):\n",
    "        return len(self._storage)\n",
    "\n",
    "    def add(self, obs_t, action, reward, obs_tp1, done):\n",
    "        data = (obs_t, action, reward, obs_tp1, done)\n",
    "\n",
    "        if self._next_idx >= len(self._storage):\n",
    "            self._storage.append(data)\n",
    "        else:\n",
    "            self._storage[self._next_idx] = data\n",
    "        self._next_idx = (self._next_idx + 1) % self._maxsize\n",
    "\n",
    "    def _encode_sample(self, idxes):\n",
    "        obses_t, actions, rewards, obses_tp1, dones = [], [], [], [], []\n",
    "        for i in idxes:\n",
    "            data = self._storage[i]\n",
    "            obs_t, action, reward, obs_tp1, done = data\n",
    "            obses_t.append(np.array(obs_t, copy=False))\n",
    "            actions.append(np.array(action, copy=False))\n",
    "            rewards.append(reward)\n",
    "            obses_tp1.append(np.array(obs_tp1, copy=False))\n",
    "            dones.append(done)\n",
    "        return (\n",
    "            np.array(obses_t),\n",
    "            np.array(actions),\n",
    "            np.array(rewards),\n",
    "            np.array(obses_tp1),\n",
    "            np.array(dones)\n",
    "        )\n",
    "\n",
    "    def sample(self, batch_size):\n",
    "        \"\"\"Sample a batch of experiences.\n",
    "        Parameters\n",
    "        ----------\n",
    "        batch_size: int\n",
    "            How many transitions to sample.\n",
    "        Returns\n",
    "        -------\n",
    "        obs_batch: np.array\n",
    "            batch of observations\n",
    "        act_batch: np.array\n",
    "            batch of actions executed given obs_batch\n",
    "        rew_batch: np.array\n",
    "            rewards received as results of executing act_batch\n",
    "        next_obs_batch: np.array\n",
    "            next set of observations seen after executing act_batch\n",
    "        done_mask: np.array\n",
    "            done_mask[i] = 1 if executing act_batch[i] resulted in\n",
    "            the end of an episode and 0 otherwise.\n",
    "        \"\"\"\n",
    "        idxes = [\n",
    "            random.randint(0, len(self._storage) - 1)\n",
    "            for _ in range(batch_size)\n",
    "        ]\n",
    "        return self._encode_sample(idxes)"
   ],
   "metadata": {
    "id": "J1c_S3yJ4iCE"
   },
   "execution_count": null,
   "outputs": []
  },
  {
   "cell_type": "code",
   "execution_count": null,
   "metadata": {
    "collapsed": true,
    "id": "pa2njiLmpIjE"
   },
   "outputs": [],
   "source": [
    "import random\n",
    "exp_replay = ReplayBuffer(10)\n",
    "\n",
    "for _ in range(30):\n",
    "    exp_replay.add(env.reset(), env.action_space.sample(), 1.0, env.reset(), done=False)\n",
    "\n",
    "obs_batch, act_batch, reward_batch, next_obs_batch, is_done_batch = exp_replay.sample(5)\n",
    "\n",
    "assert len(exp_replay) == 10, \"experience replay size should be 10 because that's what maximum capacity is\""
   ]
  },
  {
   "cell_type": "code",
   "execution_count": null,
   "metadata": {
    "collapsed": true,
    "id": "mgRDuSqfpIjE"
   },
   "outputs": [],
   "source": [
    "def play_and_record(agent, env, exp_replay, n_steps=1):\n",
    "    \"\"\"\n",
    "    Play the game for exactly n steps, record every (s,a,r,s', done) to replay buffer. \n",
    "    Whenever game ends, add record with done=True and reset the game.\n",
    "    It is guaranteed that env has done=False when passed to this function.\n",
    "    \n",
    "    PLEASE DO NOT RESET ENV UNLESS IT IS \"DONE\"\n",
    "    \n",
    "    :returns: return sum of rewards over time\n",
    "    \"\"\"\n",
    "    # initial state\n",
    "    s = env.framebuffer\n",
    "    \n",
    "    # Play the game for n_steps as per instructions above\n",
    "    # <YOUR CODE>\n",
    "\n",
    "    return reward\n",
    "    "
   ]
  },
  {
   "cell_type": "code",
   "execution_count": null,
   "metadata": {
    "collapsed": true,
    "id": "ANBBKyMMpIjF"
   },
   "outputs": [],
   "source": [
    "# testing your code. This may take a minute...\n",
    "exp_replay = ReplayBuffer(20000)\n",
    "\n",
    "play_and_record(agent, env, exp_replay, n_steps=10000)\n",
    "\n",
    "# if you're using your own experience replay buffer, some of those tests may need correction. \n",
    "# just make sure you know what your code does\n",
    "assert len(exp_replay) == 10000, \"play_and_record should have added exactly 10000 steps, \"\\\n",
    "                                 \"but instead added %i\"%len(exp_replay)\n",
    "is_dones = list(zip(*exp_replay._storage))[-1]\n",
    "\n",
    "assert 0 < np.mean(is_dones) < 0.1, \"Please make sure you restart the game whenever it is 'done' and record the is_done correctly into the buffer.\"\\\n",
    "                                    \"Got %f is_done rate over %i steps. [If you think it's your tough luck, just re-run the test]\"%(np.mean(is_dones), len(exp_replay))\n",
    "    \n",
    "for _ in range(100):\n",
    "    obs_batch, act_batch, reward_batch, next_obs_batch, is_done_batch = exp_replay.sample(10)\n",
    "    assert obs_batch.shape == next_obs_batch.shape == (10,) + state_dim\n",
    "    assert act_batch.shape == (10,), \"actions batch should have shape (10,) but is instead %s\"%str(act_batch.shape)\n",
    "    assert reward_batch.shape == (10,), \"rewards batch should have shape (10,) but is instead %s\"%str(reward_batch.shape)\n",
    "    assert is_done_batch.shape == (10,), \"is_done batch should have shape (10,) but is instead %s\"%str(is_done_batch.shape)\n",
    "    assert [int(i) in (0,1) for i in is_dones], \"is_done should be strictly True or False\"\n",
    "    assert [0 <= a <= n_actions for a in act_batch], \"actions should be within [0, n_actions]\"\n",
    "    \n",
    "print(\"Well done!\")"
   ]
  },
  {
   "cell_type": "markdown",
   "metadata": {
    "id": "RCNiL7bOpIjF"
   },
   "source": [
    "### Target networks\n",
    "\n",
    "We also employ the so called \"target network\" - a copy of neural network weights to be used for reference Q-values:\n",
    "\n",
    "The network itself is an exact copy of agent network, but it's parameters are not trained. Instead, they are moved here from agent's actual network every so often.\n",
    "\n",
    "$$ Q_{reference}(s,a) = r + \\gamma \\cdot \\max _{a'} Q_{target}(s',a') $$\n",
    "\n",
    "![img](https://github.com/yandexdataschool/Practical_RL/raw/master/yet_another_week/_resource/target_net.png)\n",
    "\n"
   ]
  },
  {
   "cell_type": "code",
   "execution_count": null,
   "metadata": {
    "collapsed": true,
    "id": "hkBms5_-pIjF"
   },
   "outputs": [],
   "source": [
    "target_network = DQNAgent(\"target_network\", state_dim, n_actions)"
   ]
  },
  {
   "cell_type": "code",
   "execution_count": null,
   "metadata": {
    "collapsed": true,
    "id": "b0pdUT8MpIjF"
   },
   "outputs": [],
   "source": [
    "def load_weigths_into_target_network(agent, target_network):\n",
    "    \"\"\" assign target_network.weights variables to their respective agent.weights values. \"\"\"\n",
    "    assigns = []\n",
    "    for w_agent, w_target in zip(agent.weights, target_network.weights):\n",
    "        assigns.append(tf.assign(w_target, w_agent, validate_shape=True))\n",
    "    tf.get_default_session().run(assigns)"
   ]
  },
  {
   "cell_type": "code",
   "execution_count": null,
   "metadata": {
    "collapsed": true,
    "id": "-FWdtws-pIjG"
   },
   "outputs": [],
   "source": [
    "load_weigths_into_target_network(agent, target_network) \n",
    "\n",
    "# check that it works\n",
    "sess.run([tf.assert_equal(w, w_target) for w, w_target in zip(agent.weights, target_network.weights)]);\n",
    "print(\"It works!\")"
   ]
  },
  {
   "cell_type": "markdown",
   "metadata": {
    "id": "cbwyIQi-pIjG"
   },
   "source": [
    "### Learning with... Q-learning\n",
    "Here we write a function similar to `agent.update` from tabular q-learning."
   ]
  },
  {
   "cell_type": "code",
   "execution_count": null,
   "metadata": {
    "collapsed": true,
    "id": "ndyEzMb3pIjG"
   },
   "outputs": [],
   "source": [
    "# placeholders that will be fed with exp_replay.sample(batch_size)\n",
    "obs_ph = tf.placeholder(tf.float32, shape=(None,) + state_dim)\n",
    "actions_ph = tf.placeholder(tf.int32, shape=[None])\n",
    "rewards_ph = tf.placeholder(tf.float32, shape=[None])\n",
    "next_obs_ph = tf.placeholder(tf.float32, shape=(None,) + state_dim)\n",
    "is_done_ph = tf.placeholder(tf.float32, shape=[None])\n",
    "\n",
    "is_not_done = 1 - is_done_ph\n",
    "gamma = 0.99"
   ]
  },
  {
   "cell_type": "markdown",
   "metadata": {
    "id": "AJiCrl69pIjG"
   },
   "source": [
    "Take q-values for actions agent just took"
   ]
  },
  {
   "cell_type": "code",
   "execution_count": null,
   "metadata": {
    "collapsed": true,
    "id": "tK5SjIQ2pIjG"
   },
   "outputs": [],
   "source": [
    "current_qvalues = agent.get_symbolic_qvalues(obs_ph)\n",
    "current_action_qvalues = tf.reduce_sum(tf.one_hot(actions_ph, n_actions) * current_qvalues, axis=1)"
   ]
  },
  {
   "cell_type": "markdown",
   "metadata": {
    "id": "tkkpLgvYpIjH"
   },
   "source": [
    "Compute Q-learning TD error:\n",
    "\n",
    "$$ L = { 1 \\over N} \\sum_i [ Q_{\\theta}(s,a) - Q_{reference}(s,a) ] ^2 $$\n",
    "\n",
    "With Q-reference defined as\n",
    "\n",
    "$$ Q_{reference}(s,a) = r(s,a) + \\gamma \\cdot max_{a'} Q_{target}(s', a') $$\n",
    "\n",
    "Where\n",
    "* $Q_{target}(s',a')$ denotes q-value of next state and next action predicted by __target_network__\n",
    "* $s, a, r, s'$ are current state, action, reward and next state respectively\n",
    "* $\\gamma$ is a discount factor defined two cells above."
   ]
  },
  {
   "cell_type": "code",
   "execution_count": null,
   "metadata": {
    "collapsed": true,
    "id": "KfU8N4L4pIjH"
   },
   "outputs": [],
   "source": [
    "# next_qvalues_target = ### YOUR CODE: compute q-values for NEXT states with target network\n",
    "# next_state_values_target = ### YOUR CODE: compute state values by taking max over next_qvalues_target for all actions\n",
    "# reference_qvalues = ### YOUR CODE: compute Q_reference(s,a) as per formula above\n",
    "next_qvalues_target = target_network.get_symbolic_qvalues(next_obs_ph)\n",
    "next_state_values_target = tf.reduce_max(next_qvalues_target, axis=-1)\n",
    "reference_qvalues = rewards_ph + gamma*next_state_values_target*is_not_done\n",
    "\n",
    "# Define loss function for sgd.\n",
    "td_loss = (current_action_qvalues - reference_qvalues) ** 2\n",
    "td_loss = tf.reduce_mean(td_loss)\n",
    "\n",
    "train_step = tf.train.AdamOptimizer(1e-3).minimize(td_loss, var_list=agent.weights)"
   ]
  },
  {
   "cell_type": "code",
   "execution_count": null,
   "metadata": {
    "collapsed": true,
    "id": "esKoPH3mpIjH"
   },
   "outputs": [],
   "source": [
    "sess.run(tf.global_variables_initializer())"
   ]
  },
  {
   "cell_type": "code",
   "execution_count": null,
   "metadata": {
    "collapsed": true,
    "id": "ANWFZjNdpIjH"
   },
   "outputs": [],
   "source": [
    "for chk_grad in tf.gradients(reference_qvalues, agent.weights):\n",
    "    error_msg = \"Reference q-values should have no gradient w.r.t. agent weights. Make sure you used target_network qvalues! \"\n",
    "    error_msg += \"If you know what you're doing, ignore this assert.\"\n",
    "    assert chk_grad is None or np.allclose(sess.run(chk_grad), sess.run(chk_grad * 0)), error_msg\n",
    "\n",
    "assert tf.gradients(reference_qvalues, is_not_done)[0] is not None, \"make sure you used is_not_done\"\n",
    "assert tf.gradients(reference_qvalues, rewards_ph)[0] is not None, \"make sure you used rewards\"\n",
    "assert tf.gradients(reference_qvalues, next_obs_ph)[0] is not None, \"make sure you used next states\"\n",
    "assert tf.gradients(reference_qvalues, obs_ph)[0] is None, \"reference qvalues shouldn't depend on current observation!\" # ignore if you're certain it's ok\n",
    "print(\"Splendid!\")"
   ]
  },
  {
   "cell_type": "markdown",
   "metadata": {
    "id": "fciuIgdcpIjI"
   },
   "source": [
    "### Main loop\n",
    "\n",
    "It's time to put everything together and see if it learns anything."
   ]
  },
  {
   "cell_type": "code",
   "execution_count": null,
   "metadata": {
    "collapsed": true,
    "id": "i3dHWxGfpIjI"
   },
   "outputs": [],
   "source": [
    "from tqdm import trange\n",
    "from IPython.display import clear_output\n",
    "import matplotlib.pyplot as plt\n",
    "%matplotlib inline\n",
    "\n",
    "mean_rw_history = []\n",
    "td_loss_history = []"
   ]
  },
  {
   "cell_type": "code",
   "execution_count": null,
   "metadata": {
    "collapsed": true,
    "id": "C5bUtOG7pIjI"
   },
   "outputs": [],
   "source": [
    "exp_replay = ReplayBuffer(10**5)\n",
    "play_and_record(agent, env, exp_replay, n_steps=10000)\n",
    "\n",
    "def sample_batch(exp_replay, batch_size):\n",
    "    obs_batch, act_batch, reward_batch, next_obs_batch, is_done_batch = exp_replay.sample(batch_size)\n",
    "    return {\n",
    "        obs_ph:obs_batch, actions_ph:act_batch, rewards_ph:reward_batch, \n",
    "        next_obs_ph:next_obs_batch, is_done_ph:is_done_batch\n",
    "    }"
   ]
  },
  {
   "cell_type": "code",
   "execution_count": null,
   "metadata": {
    "collapsed": true,
    "scrolled": true,
    "id": "2XFY4yjcpIjI"
   },
   "outputs": [],
   "source": [
    "for i in trange(10**3):\n",
    "    \n",
    "    # play\n",
    "    play_and_record(agent, env, exp_replay, 10)\n",
    "    \n",
    "    # train\n",
    "    _, loss_t = sess.run([train_step, td_loss], sample_batch(exp_replay, batch_size=64))\n",
    "    td_loss_history.append(loss_t)\n",
    "    \n",
    "    # adjust agent parameters\n",
    "    if i % 500 == 0:\n",
    "        load_weigths_into_target_network(agent, target_network)\n",
    "        agent.epsilon = max(agent.epsilon * 0.99, 0.01)\n",
    "        mean_rw_history.append(evaluate(make_env(), agent, n_games=3))\n",
    "    \n",
    "    if i % 100 == 0:\n",
    "        clear_output(True)\n",
    "        print(\"buffer size = %i, epsilon = %.5f\" % (len(exp_replay), agent.epsilon))\n",
    "        \n",
    "        plt.title(\"mean reward per game\")\n",
    "        plt.plot(mean_rw_history)\n",
    "        plt.grid()\n",
    "        plt.show()\n",
    "\n",
    "\n",
    "        \n",
    "        "
   ]
  },
  {
   "cell_type": "code",
   "execution_count": null,
   "metadata": {
    "collapsed": true,
    "id": "9uzRrj2-pIjJ"
   },
   "outputs": [],
   "source": [
    "assert np.mean(mean_rw_history[-10:]) > 10.\n",
    "print(\"That's good enough for tutorial.\")"
   ]
  },
  {
   "cell_type": "markdown",
   "metadata": {
    "id": "oKaeoeGxpIjJ"
   },
   "source": [
    "__ How to interpret plots: __\n",
    "\n",
    "\n",
    "This aint no supervised learning so don't expect anything to improve monotonously. \n",
    "* __ TD loss __ is the MSE between agent's current Q-values and target Q-values. It may slowly increase or decrease, it's ok. The \"not ok\" behavior includes going NaN or stayng at exactly zero before agent has perfect performance.\n",
    "* __ mean reward__ is the expected sum of r(s,a) agent gets over the full game session. It will oscillate, but on average it should get higher over time (after a few thousand iterations...). \n",
    " * In basic q-learning implementation it takes 5-10k steps to \"warm up\" agent before it starts to get better.\n",
    "* __ buffer size__ - this one is simple. It should go up and cap at max size.\n",
    "* __ epsilon__ - agent's willingness to explore. If you see that agent's already at 0.01 epsilon before it's average reward is above 0 - __ it means you need to increase epsilon__. Set it back to some 0.2 - 0.5 and decrease the pace at which it goes down.\n",
    "\n",
    "At first your agent will lose quickly. Then it will learn to suck less and at least hit the ball a few times before it loses. Finally it will learn to actually score points.\n",
    "\n",
    "__Training will take time.__ A lot of it actually. An optimistic estimate is to say it's gonna start winning (average reward > 10) after 10k steps. \n",
    "\n",
    "But hey, look on the bright side of things:\n",
    "\n",
    "![img](https://github.com/yandexdataschool/Practical_RL/raw/master/yet_another_week/_resource/training.png)"
   ]
  }
 ],
 "metadata": {
  "anaconda-cloud": {},
  "kernelspec": {
   "display_name": "Python 3",
   "language": "python",
   "name": "python3"
  },
  "language_info": {
   "codemirror_mode": {
    "name": "ipython",
    "version": 3
   },
   "file_extension": ".py",
   "mimetype": "text/x-python",
   "name": "python",
   "nbconvert_exporter": "python",
   "pygments_lexer": "ipython3",
   "version": "3.6.2"
  },
  "colab": {
   "provenance": []
  },
  "gpuClass": "standard"
 },
 "nbformat": 4,
 "nbformat_minor": 0
}
