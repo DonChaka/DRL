{
 "cells": [
  {
   "cell_type": "markdown",
   "metadata": {},
   "source": [
    "# Laboratorium 5 (4 pkt)\n",
    "\n",
    "Celem czwartego laboratorium jest zapoznanie się oraz zaimplementowanie algorytmów głębokiego uczenia aktywnego. Zaimplementowane algorytmy będą testowane z wykorzystaniem środowiska z OpenAI - *CartPole*.\n"
   ]
  },
  {
   "cell_type": "markdown",
   "metadata": {},
   "source": [
    "Dołączenie standardowych bibliotek"
   ]
  },
  {
   "cell_type": "code",
   "execution_count": 31,
   "metadata": {},
   "outputs": [],
   "source": [
    "from collections import deque\n",
    "import gym\n",
    "import numpy as np\n",
    "import random\n",
    "from tqdm import tqdm\n",
    "from numpy import ndarray"
   ]
  },
  {
   "cell_type": "markdown",
   "metadata": {},
   "source": [
    "Dołączenie bibliotek do obsługi sieci neuronowych"
   ]
  },
  {
   "cell_type": "code",
   "execution_count": 32,
   "metadata": {},
   "outputs": [],
   "source": [
    "# import tensorflow as tf\n",
    "# from tensorflow.keras.layers import Dense\n",
    "# from tensorflow.keras.optimizers import Adam\n",
    "# from tensorflow.keras import Sequential\n",
    "# import numpy as np"
   ]
  },
  {
   "cell_type": "code",
   "execution_count": 33,
   "outputs": [],
   "source": [
    "import torch as T\n",
    "import torch.nn as nn\n",
    "import torch.nn.functional as F\n",
    "import torch.optim as optim"
   ],
   "metadata": {
    "collapsed": false
   }
  },
  {
   "cell_type": "markdown",
   "metadata": {},
   "source": [
    "## Zadanie 1 - Double Deep Q-Network\n",
    "\n",
    "<p style='text-align: justify;'>\n",
    "Celem ćwiczenie jest zaimplementowanie algorytmu Double Deep Q-Network. Wartoscią oczekiwaną sieci jest:\n",
    "\\begin{equation}\n",
    "       Q^*(s, a) \\approx r + \\gamma argmax_{a'}Q_\\theta'(s', a') \n",
    "\\end{equation}\n",
    "a wagi pomiędzy sieciami wymieniane są co dziesięć aktualizacji wag sieci sterującej poczynaniami agenta ($Q$).\n",
    "</p>"
   ]
  },
  {
   "cell_type": "code",
   "execution_count": 34,
   "outputs": [],
   "source": [
    "class ReplayBuffer(object):\n",
    "    def __init__(self, mem_size, state_shape):\n",
    "        self.mem_size = mem_size\n",
    "        self.mem_cntr = 0\n",
    "        self.state_memory = np.zeros((self.mem_size, state_shape), dtype=np.float32)\n",
    "        self.new_state_memory = np.zeros((self.mem_size, state_shape), dtype=np.float32)\n",
    "        self.action_memory = np.zeros(self.mem_size, dtype=np.int32)\n",
    "        self.reward_memory = np.zeros(self.mem_size, dtype=np.float32)\n",
    "        self.terminal_memory = np.zeros(self.mem_size, dtype=bool)\n",
    "\n",
    "    def store_transition(self, state, action, reward, _state, done):\n",
    "        index = self.mem_cntr % self.mem_size\n",
    "        self.state_memory[index] = state\n",
    "        self.new_state_memory[index] = _state\n",
    "        self.action_memory[index] = action\n",
    "        self.reward_memory[index] = reward\n",
    "        self.terminal_memory[index] = 1 - done\n",
    "        self.mem_cntr += 1\n",
    "\n",
    "    @staticmethod\n",
    "    def _softmax(x: ndarray) -> ndarray:\n",
    "        return np.exp(x) / np.exp(x).sum()\n",
    "\n",
    "    def sample_buffer(self, batch_size):\n",
    "        max_mem = min(self.mem_cntr, self.mem_size)\n",
    "\n",
    "        probs = self._softmax(np.abs(self.reward_memory[:max_mem]))\n",
    "        batch = np.random.choice(max_mem, batch_size, p=probs)\n",
    "\n",
    "        states = self.state_memory[batch]\n",
    "        actions = self.action_memory[batch]\n",
    "        rewards = self.reward_memory[batch]\n",
    "        _states = self.new_state_memory[batch]\n",
    "        done = self.terminal_memory[batch]\n",
    "\n",
    "        return states, actions, rewards, _states, done"
   ],
   "metadata": {
    "collapsed": false
   }
  },
  {
   "cell_type": "code",
   "execution_count": 35,
   "outputs": [],
   "source": [
    "class DQN(nn.Module):\n",
    "    def __init__(self, lr, state_shape, n_actions, fc1, fc2):\n",
    "        super(DQN, self).__init__()\n",
    "\n",
    "        self.fc1 = nn.Linear(state_shape, fc1)\n",
    "        self.fc2 = nn.Linear(fc1, fc2)\n",
    "        self.output = nn.Linear(fc2, n_actions)\n",
    "        self.optimizer = optim.RMSprop(self.parameters(), lr=lr)\n",
    "        self.loss = nn.MSELoss()\n",
    "        self.device = T.device('cuda:0')\n",
    "        self.to(self.device)\n",
    "\n",
    "    def forward(self, state):\n",
    "        state = F.relu(self.fc1(state))\n",
    "        state = F.relu(self.fc2(state))\n",
    "        actions = self.output(state)\n",
    "\n",
    "        return actions"
   ],
   "metadata": {
    "collapsed": false
   }
  },
  {
   "cell_type": "code",
   "execution_count": 36,
   "outputs": [],
   "source": [
    "class DDQNAgent:\n",
    "    def __init__(self, state_size, action_size, learning_rate):\n",
    "        self.state_size = state_size\n",
    "        self.action_size = action_size\n",
    "        self.memory = ReplayBuffer(5_000, state_size)\n",
    "        self.gamma = 0.95    # discount rate\n",
    "        self.epsilon = 0.5  # exploration rate\n",
    "        self.epsilon_min = 0.01\n",
    "        self.epsilon_decay = 0.05\n",
    "        self.q = DQN(learning_rate, state_size, action_size, 32, 32)\n",
    "        self.q_target = DQN(learning_rate, state_size, action_size, 32, 32)\n",
    "        self.update_weights()\n",
    "        self.evaluate=False\n",
    "\n",
    "    def remember(self, state, action, reward, _state, done):\n",
    "        self.memory.store_transition(state, action, reward, _state, done)\n",
    "\n",
    "    def get_action(self, state):\n",
    "        if np.random.random() <= self.epsilon and not self.evaluate:\n",
    "            action = np.random.choice(self.action_size)\n",
    "        else:\n",
    "            state = T.tensor(state).to(self.q.device)\n",
    "            actions = self.q.forward(state)\n",
    "            action = T.argmax(actions).item()\n",
    "\n",
    "        return action\n",
    "\n",
    "\n",
    "    def get_best_action(self, state):\n",
    "        state = T.tensor(state).to(self.q.device)\n",
    "        actions = self.q.forward(state)\n",
    "        action = T.argmax(actions).item()\n",
    "\n",
    "        return action\n",
    "\n",
    "    def replay(self, batch_size):\n",
    "        \"\"\"\n",
    "        Function learn network using randomly selected actions from the memory.\n",
    "        First calculates Q value for the next state and choose action with the biggest value.\n",
    "        Target value is calculated according to:\n",
    "                Q(s,a) := (r + gamma * max_a(Q(s', a)))\n",
    "        except the situation when the next action is the last action, in such case Q(s, a) := r.\n",
    "        In order to change only those weights responsible for chosing given action, the rest values should be those\n",
    "        returned by the network for state state.\n",
    "        The network should be trained on batch_size samples.\n",
    "        After each 10 Q Network trainings parameters should be copied to the target Q Network\n",
    "        \"\"\"\n",
    "        if self.memory.mem_cntr < batch_size:\n",
    "            return\n",
    "\n",
    "        states, actions, rewards, _states, done = self.memory.sample_buffer(batch_size)\n",
    "\n",
    "        states = T.tensor(states).to(self.q.device)\n",
    "        _states = T.tensor(_states).to(self.q_target.device)\n",
    "\n",
    "        q_next = self.q_target(_states).cpu().detach().numpy()\n",
    "        q_pred = self.q(states)\n",
    "        q_target = q_pred.cpu().detach().numpy().copy()\n",
    "\n",
    "        max_actions = np.argmax(q_next, axis=1)\n",
    "\n",
    "        batch_index = np.arange(batch_size, dtype=np.int32)\n",
    "\n",
    "        q_target[batch_index, actions] = rewards + self.gamma * q_next[batch_index, max_actions.astype(int)] * (1-done)\n",
    "        q_target = T.tensor(q_target).to(self.q.device)\n",
    "\n",
    "        self.q.optimizer.zero_grad()\n",
    "        loss = self.q.loss(q_pred, q_target).to(self.q.device)\n",
    "        loss.backward()\n",
    "        self.q.optimizer.step()\n",
    "\n",
    "        if not self.memory.mem_cntr % 10:\n",
    "            self.update_weights()\n",
    "\n",
    "    def update_epsilon_value(self):\n",
    "        self.epsilon = self.epsilon - self.epsilon_decay if self.epsilon > self.epsilon_min else self.epsilon_min\n",
    "\n",
    "    def update_weights(self):\n",
    "        self.q_target.load_state_dict(self.q.state_dict())\n"
   ],
   "metadata": {
    "collapsed": false
   }
  },
  {
   "cell_type": "markdown",
   "metadata": {},
   "source": [
    "Czas przygotować model sieci, która będzie się uczyła działania w środowisku [*CartPool*](https://gym.openai.com/envs/CartPole-v0/):"
   ]
  },
  {
   "cell_type": "code",
   "execution_count": 37,
   "metadata": {},
   "outputs": [],
   "source": [
    "env = gym.make(\"CartPole-v0\")\n",
    "state_size = env.observation_space.sample().shape[0]\n",
    "action_size = env.action_space.n\n",
    "learning_rate = 0.001"
   ]
  },
  {
   "cell_type": "markdown",
   "metadata": {},
   "source": [
    "Czas nauczyć agenta gry w środowisku *CartPool*:"
   ]
  },
  {
   "cell_type": "code",
   "execution_count": 38,
   "metadata": {},
   "outputs": [
    {
     "name": "stdout",
     "output_type": "stream",
     "text": [
      "epoch #0\tmean reward = 22.530\tepsilon = 0.950\n",
      "epoch #1\tmean reward = 22.420\tepsilon = 0.900\n",
      "epoch #2\tmean reward = 21.270\tepsilon = 0.850\n",
      "epoch #3\tmean reward = 19.270\tepsilon = 0.800\n",
      "epoch #4\tmean reward = 18.750\tepsilon = 0.750\n",
      "epoch #5\tmean reward = 17.580\tepsilon = 0.700\n",
      "epoch #6\tmean reward = 15.640\tepsilon = 0.650\n",
      "epoch #7\tmean reward = 15.510\tepsilon = 0.600\n",
      "epoch #8\tmean reward = 13.150\tepsilon = 0.550\n",
      "epoch #9\tmean reward = 11.990\tepsilon = 0.500\n",
      "epoch #10\tmean reward = 12.020\tepsilon = 0.450\n",
      "epoch #11\tmean reward = 12.280\tepsilon = 0.400\n",
      "epoch #12\tmean reward = 11.270\tepsilon = 0.350\n",
      "epoch #13\tmean reward = 11.540\tepsilon = 0.300\n",
      "epoch #14\tmean reward = 10.770\tepsilon = 0.250\n",
      "epoch #15\tmean reward = 10.450\tepsilon = 0.200\n",
      "epoch #16\tmean reward = 10.900\tepsilon = 0.150\n",
      "epoch #17\tmean reward = 10.250\tepsilon = 0.100\n",
      "epoch #18\tmean reward = 9.760\tepsilon = 0.050\n",
      "epoch #19\tmean reward = 9.880\tepsilon = -0.000\n",
      "epoch #20\tmean reward = 9.420\tepsilon = 0.010\n",
      "epoch #21\tmean reward = 9.540\tepsilon = 0.010\n",
      "epoch #22\tmean reward = 11.030\tepsilon = 0.010\n",
      "epoch #23\tmean reward = 10.220\tepsilon = 0.010\n",
      "epoch #24\tmean reward = 9.640\tepsilon = 0.010\n",
      "epoch #25\tmean reward = 9.700\tepsilon = 0.010\n",
      "epoch #26\tmean reward = 9.670\tepsilon = 0.010\n",
      "epoch #27\tmean reward = 9.430\tepsilon = 0.010\n",
      "epoch #28\tmean reward = 9.550\tepsilon = 0.010\n",
      "epoch #29\tmean reward = 9.400\tepsilon = 0.010\n",
      "epoch #30\tmean reward = 9.640\tepsilon = 0.010\n",
      "epoch #31\tmean reward = 9.800\tepsilon = 0.010\n",
      "epoch #32\tmean reward = 9.510\tepsilon = 0.010\n",
      "epoch #33\tmean reward = 9.540\tepsilon = 0.010\n",
      "epoch #34\tmean reward = 9.510\tepsilon = 0.010\n",
      "epoch #35\tmean reward = 9.460\tepsilon = 0.010\n",
      "epoch #36\tmean reward = 9.590\tepsilon = 0.010\n",
      "epoch #37\tmean reward = 9.620\tepsilon = 0.010\n",
      "epoch #38\tmean reward = 10.210\tepsilon = 0.010\n",
      "epoch #39\tmean reward = 10.110\tepsilon = 0.010\n",
      "epoch #40\tmean reward = 9.570\tepsilon = 0.010\n",
      "epoch #41\tmean reward = 9.440\tepsilon = 0.010\n",
      "epoch #42\tmean reward = 9.500\tepsilon = 0.010\n",
      "epoch #43\tmean reward = 9.420\tepsilon = 0.010\n",
      "epoch #44\tmean reward = 9.550\tepsilon = 0.010\n",
      "epoch #45\tmean reward = 9.600\tepsilon = 0.010\n",
      "epoch #46\tmean reward = 9.520\tepsilon = 0.010\n",
      "epoch #47\tmean reward = 9.630\tepsilon = 0.010\n",
      "epoch #48\tmean reward = 9.620\tepsilon = 0.010\n"
     ]
    },
    {
     "ename": "KeyboardInterrupt",
     "evalue": "",
     "output_type": "error",
     "traceback": [
      "\u001B[1;31m---------------------------------------------------------------------------\u001B[0m",
      "\u001B[1;31mKeyboardInterrupt\u001B[0m                         Traceback (most recent call last)",
      "Cell \u001B[1;32mIn[38], line 23\u001B[0m\n\u001B[0;32m     20\u001B[0m total_reward \u001B[38;5;241m+\u001B[39m\u001B[38;5;241m=\u001B[39m reward\n\u001B[0;32m     22\u001B[0m agent\u001B[38;5;241m.\u001B[39mremember(state, action, reward, _state, done)\n\u001B[1;32m---> 23\u001B[0m \u001B[43magent\u001B[49m\u001B[38;5;241;43m.\u001B[39;49m\u001B[43mreplay\u001B[49m\u001B[43m(\u001B[49m\u001B[43mbatch_size\u001B[49m\u001B[43m)\u001B[49m\n\u001B[0;32m     24\u001B[0m state \u001B[38;5;241m=\u001B[39m _state\n\u001B[0;32m     25\u001B[0m \u001B[38;5;28;01mif\u001B[39;00m done:\n",
      "Cell \u001B[1;32mIn[36], line 64\u001B[0m, in \u001B[0;36mDDQNAgent.replay\u001B[1;34m(self, batch_size)\u001B[0m\n\u001B[0;32m     60\u001B[0m max_actions \u001B[38;5;241m=\u001B[39m np\u001B[38;5;241m.\u001B[39margmax(q_next, axis\u001B[38;5;241m=\u001B[39m\u001B[38;5;241m1\u001B[39m)\n\u001B[0;32m     62\u001B[0m batch_index \u001B[38;5;241m=\u001B[39m np\u001B[38;5;241m.\u001B[39marange(batch_size, dtype\u001B[38;5;241m=\u001B[39mnp\u001B[38;5;241m.\u001B[39mint32)\n\u001B[1;32m---> 64\u001B[0m q_target[batch_index, actions] \u001B[38;5;241m=\u001B[39m rewards \u001B[38;5;241m+\u001B[39m \u001B[38;5;28mself\u001B[39m\u001B[38;5;241m.\u001B[39mgamma \u001B[38;5;241m*\u001B[39m q_next[batch_index, max_actions\u001B[38;5;241m.\u001B[39mastype(\u001B[38;5;28mint\u001B[39m)] \u001B[38;5;241m*\u001B[39m (\u001B[38;5;241m1\u001B[39m\u001B[38;5;241m-\u001B[39mdone)\n\u001B[0;32m     65\u001B[0m q_target \u001B[38;5;241m=\u001B[39m T\u001B[38;5;241m.\u001B[39mtensor(q_target)\u001B[38;5;241m.\u001B[39mto(\u001B[38;5;28mself\u001B[39m\u001B[38;5;241m.\u001B[39mq\u001B[38;5;241m.\u001B[39mdevice)\n\u001B[0;32m     67\u001B[0m \u001B[38;5;28mself\u001B[39m\u001B[38;5;241m.\u001B[39mq\u001B[38;5;241m.\u001B[39moptimizer\u001B[38;5;241m.\u001B[39mzero_grad()\n",
      "\u001B[1;31mKeyboardInterrupt\u001B[0m: "
     ]
    }
   ],
   "source": [
    "agent = DDQNAgent(state_size, action_size, learning_rate)\n",
    "\n",
    "agent.epsilon = 1\n",
    "\n",
    "done = False\n",
    "batch_size = 64\n",
    "EPISODES = 1000\n",
    "counter = 0\n",
    "for e in range(EPISODES):\n",
    "    summary = []\n",
    "    for _ in tqdm(range(100), desc=f'Epoch: {e}', disable=True):\n",
    "        total_reward = 0\n",
    "        state = env.reset()\n",
    "        state = np.array(state, dtype=np.float32)\n",
    "        done = False\n",
    "\n",
    "        for time in range(500):\n",
    "            action = agent.get_action(state)\n",
    "            _state, reward, done, _ = env.step(action)\n",
    "            _state = np.array(_state, dtype=np.float32)\n",
    "            total_reward += reward\n",
    "\n",
    "            agent.remember(state, action, reward, _state, done)\n",
    "            agent.replay(batch_size)\n",
    "            state = _state\n",
    "            if done:\n",
    "                break\n",
    "\n",
    "        summary.append(total_reward)\n",
    "\n",
    "    agent.update_epsilon_value()\n",
    "    print(\"epoch #{}\\tmean reward = {:.3f}\\tepsilon = {:.3f}\".format(e, np.mean(summary), agent.epsilon))    \n",
    "    \n",
    "    if np.mean(summary) > 195:\n",
    "        print (\"You Win!\")\n",
    "        break\n"
   ]
  },
  {
   "cell_type": "code",
   "execution_count": null,
   "outputs": [],
   "source": [],
   "metadata": {
    "collapsed": false
   }
  }
 ],
 "metadata": {
  "kernelspec": {
   "display_name": "Python 3",
   "language": "python",
   "name": "python3"
  },
  "language_info": {
   "codemirror_mode": {
    "name": "ipython",
    "version": 3
   },
   "file_extension": ".py",
   "mimetype": "text/x-python",
   "name": "python",
   "nbconvert_exporter": "python",
   "pygments_lexer": "ipython3",
   "version": "3.7.5"
  }
 },
 "nbformat": 4,
 "nbformat_minor": 4
}
