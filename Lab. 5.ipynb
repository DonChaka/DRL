{
 "cells": [
  {
   "cell_type": "markdown",
   "metadata": {},
   "source": [
    "# Laboratorium 5 (4 pkt)\n",
    "\n",
    "Celem czwartego laboratorium jest zapoznanie się oraz zaimplementowanie algorytmów głębokiego uczenia aktywnego. Zaimplementowane algorytmy będą testowane z wykorzystaniem środowiska z OpenAI - *CartPole*.\n"
   ]
  },
  {
   "cell_type": "markdown",
   "metadata": {},
   "source": [
    "Dołączenie standardowych bibliotek"
   ]
  },
  {
   "cell_type": "code",
   "execution_count": 17,
   "metadata": {},
   "outputs": [],
   "source": [
    "from collections import deque\n",
    "import gym\n",
    "import numpy as np\n",
    "import random\n",
    "from tqdm import tqdm\n",
    "from numpy import ndarray"
   ]
  },
  {
   "cell_type": "markdown",
   "metadata": {},
   "source": [
    "Dołączenie bibliotek do obsługi sieci neuronowych"
   ]
  },
  {
   "cell_type": "code",
   "execution_count": 18,
   "metadata": {},
   "outputs": [],
   "source": [
    "# import tensorflow as tf\n",
    "# from tensorflow.keras.layers import Dense\n",
    "# from tensorflow.keras.optimizers import Adam\n",
    "# from tensorflow.keras import Sequential\n",
    "# import numpy as np"
   ]
  },
  {
   "cell_type": "code",
   "execution_count": 19,
   "outputs": [],
   "source": [
    "import torch as T\n",
    "import torch.nn as nn\n",
    "import torch.nn.functional as F\n",
    "import torch.optim as optim"
   ],
   "metadata": {
    "collapsed": false
   }
  },
  {
   "cell_type": "markdown",
   "metadata": {},
   "source": [
    "## Zadanie 1 - Double Deep Q-Network\n",
    "\n",
    "<p style='text-align: justify;'>\n",
    "Celem ćwiczenie jest zaimplementowanie algorytmu Double Deep Q-Network. Wartoscią oczekiwaną sieci jest:\n",
    "\\begin{equation}\n",
    "       Q^*(s, a) \\approx r + \\gamma argmax_{a'}Q_\\theta'(s', a') \n",
    "\\end{equation}\n",
    "a wagi pomiędzy sieciami wymieniane są co dziesięć aktualizacji wag sieci sterującej poczynaniami agenta ($Q$).\n",
    "</p>"
   ]
  },
  {
   "cell_type": "code",
   "execution_count": 20,
   "outputs": [],
   "source": [
    "class ReplayBuffer(object):\n",
    "    def __init__(self, mem_size, state_shape):\n",
    "        self.mem_size = mem_size\n",
    "        self.mem_cntr = 0\n",
    "        self.state_memory = np.zeros((self.mem_size, state_shape), dtype=np.float32)\n",
    "        self.new_state_memory = np.zeros((self.mem_size, state_shape), dtype=np.float32)\n",
    "        self.action_memory = np.zeros(self.mem_size, dtype=np.int32)\n",
    "        self.reward_memory = np.zeros(self.mem_size, dtype=np.float32)\n",
    "        self.terminal_memory = np.zeros(self.mem_size, dtype=bool)\n",
    "\n",
    "    def store_transition(self, state, action, reward, _state, done):\n",
    "        index = self.mem_cntr % self.mem_size\n",
    "        self.state_memory[index] = state\n",
    "        self.new_state_memory[index] = _state\n",
    "        self.action_memory[index] = action\n",
    "        self.reward_memory[index] = reward\n",
    "        self.terminal_memory[index] = done\n",
    "        self.mem_cntr += 1\n",
    "\n",
    "    @staticmethod\n",
    "    def _softmax(x: ndarray) -> ndarray:\n",
    "        return np.exp(x) / np.exp(x).sum()\n",
    "\n",
    "    def sample_buffer(self, batch_size):\n",
    "        max_mem = min(self.mem_cntr, self.mem_size)\n",
    "\n",
    "        probs = self._softmax(np.abs(self.reward_memory[:max_mem]))\n",
    "        batch = np.random.choice(max_mem, batch_size)\n",
    "\n",
    "        states = self.state_memory[batch]\n",
    "        actions = self.action_memory[batch]\n",
    "        rewards = self.reward_memory[batch]\n",
    "        _states = self.new_state_memory[batch]\n",
    "        done = self.terminal_memory[batch]\n",
    "\n",
    "        return states, actions, rewards, _states, done"
   ],
   "metadata": {
    "collapsed": false
   }
  },
  {
   "cell_type": "code",
   "execution_count": 21,
   "outputs": [],
   "source": [
    "class DQN(nn.Module):\n",
    "    def __init__(self, lr, state_shape, n_actions, fc1, fc2):\n",
    "        super(DQN, self).__init__()\n",
    "\n",
    "        self.fc1 = nn.Linear(state_shape, fc1)\n",
    "        self.fc2 = nn.Linear(fc1, fc2)\n",
    "        self.output = nn.Linear(fc2, n_actions)\n",
    "        self.optimizer = optim.Adam(self.parameters(), lr=lr)\n",
    "        self.loss = nn.MSELoss()\n",
    "        self.device = T.device('cuda:0') if T.cuda.is_available() else T.device('cpu')\n",
    "        self.to(self.device)\n",
    "\n",
    "    def forward(self, state):\n",
    "        state = F.relu(self.fc1(state))\n",
    "        state = F.relu(self.fc2(state))\n",
    "        actions = self.output(state)\n",
    "\n",
    "        return actions"
   ],
   "metadata": {
    "collapsed": false
   }
  },
  {
   "cell_type": "code",
   "execution_count": 22,
   "outputs": [],
   "source": [
    "class DDQNAgent:\n",
    "    def __init__(self, state_size, action_size, learning_rate):\n",
    "        self.state_size = state_size\n",
    "        self.action_size = action_size\n",
    "        self.memory = ReplayBuffer(2000, state_size)\n",
    "        self.gamma = 0.95    # discount rate\n",
    "        self.epsilon = 1  # exploration rate\n",
    "        self.epsilon_min = 0.01\n",
    "        self.epsilon_decay = 0.05\n",
    "        self.q = DQN(learning_rate, state_size, action_size, 32, 32)\n",
    "        self.q_target = DQN(learning_rate, state_size, action_size, 32, 32)\n",
    "        self.update_weights()\n",
    "        self.evaluate=False\n",
    "\n",
    "    def remember(self, state, action, reward, _state, done):\n",
    "        self.memory.store_transition(state, action, reward, _state, done)\n",
    "\n",
    "    def get_action(self, state):\n",
    "        if np.random.random() <= self.epsilon and not self.evaluate:\n",
    "            action = np.random.choice(self.action_size)\n",
    "        else:\n",
    "            state = T.tensor(state).to(self.q.device)\n",
    "            actions = self.q.forward(state)\n",
    "            action = T.argmax(actions).item()\n",
    "\n",
    "        return action\n",
    "\n",
    "\n",
    "    def get_best_action(self, state):\n",
    "        state = T.tensor(state).to(self.q.device)\n",
    "        actions = self.q.forward(state)\n",
    "        action = T.argmax(actions).item()\n",
    "\n",
    "        return action\n",
    "\n",
    "    def replay(self, batch_size):\n",
    "        \"\"\"\n",
    "        Function learn network using randomly selected actions from the memory.\n",
    "        First calculates Q value for the next state and choose action with the biggest value.\n",
    "        Target value is calculated according to:\n",
    "                Q(s,a) := (r + gamma * max_a(Q(s', a)))\n",
    "        except the situation when the next action is the last action, in such case Q(s, a) := r.\n",
    "        In order to change only those weights responsible for chosing given action, the rest values should be those\n",
    "        returned by the network for state state.\n",
    "        The network should be trained on batch_size samples.\n",
    "        After each 10 Q Network trainings parameters should be copied to the target Q Network\n",
    "        \"\"\"\n",
    "        if self.memory.mem_cntr < batch_size:\n",
    "            return\n",
    "\n",
    "        states, actions, rewards, _states, done = self.memory.sample_buffer(batch_size)\n",
    "\n",
    "        states = T.tensor(states).to(self.q.device)\n",
    "        _states = T.tensor(_states).to(self.q_target.device)\n",
    "\n",
    "        q_test = self.q(states)\n",
    "        with T.no_grad():\n",
    "            q_next = self.q_target.forward(_states).cpu().detach().numpy()\n",
    "            q_target = q_test.cpu().detach().numpy().copy()\n",
    "\n",
    "            max_actions = np.argmax(q_next, axis=1)\n",
    "\n",
    "            batch_index = np.arange(batch_size, dtype=np.int32)\n",
    "\n",
    "            q_target[batch_index, actions] = rewards + self.gamma * q_next[batch_index, max_actions] * (1-done)\n",
    "            q_target = T.tensor(q_target).to(self.q.device)\n",
    "\n",
    "        q_pred = self.q(states)\n",
    "        self.q.optimizer.zero_grad()\n",
    "        loss = self.q.loss(q_pred, q_target).to(self.q.device)\n",
    "        loss.backward()\n",
    "        self.q.optimizer.step()\n",
    "\n",
    "        if not self.memory.mem_cntr % 10:\n",
    "            self.update_weights()\n",
    "\n",
    "    def update_epsilon_value(self):\n",
    "        self.epsilon = self.epsilon - self.epsilon_decay if self.epsilon > self.epsilon_min else self.epsilon_min\n",
    "\n",
    "    def update_weights(self):\n",
    "        self.q_target.load_state_dict(self.q.state_dict())\n"
   ],
   "metadata": {
    "collapsed": false
   }
  },
  {
   "cell_type": "markdown",
   "metadata": {},
   "source": [
    "Czas przygotować model sieci, która będzie się uczyła działania w środowisku [*CartPool*](https://gym.openai.com/envs/CartPole-v0/):"
   ]
  },
  {
   "cell_type": "code",
   "execution_count": 23,
   "metadata": {},
   "outputs": [],
   "source": [
    "env = gym.make(\"CartPole-v1\")\n",
    "state_size = env.observation_space.shape[0]\n",
    "action_size = env.action_space.n\n",
    "learning_rate = 0.005"
   ]
  },
  {
   "cell_type": "markdown",
   "metadata": {},
   "source": [
    "Czas nauczyć agenta gry w środowisku *CartPool*:"
   ]
  },
  {
   "cell_type": "code",
   "execution_count": 24,
   "metadata": {},
   "outputs": [
    {
     "name": "stdout",
     "output_type": "stream",
     "text": [
      "epoch #0\tmean reward = 70.980\tepsilon = 0.500\n",
      "epoch #1\tmean reward = 54.830\tepsilon = 0.400\n",
      "epoch #2\tmean reward = 84.060\tepsilon = 0.300\n",
      "epoch #3\tmean reward = 98.260\tepsilon = 0.200\n",
      "epoch #4\tmean reward = 134.320\tepsilon = 0.100\n",
      "epoch #5\tmean reward = 197.370\tepsilon = 0.000\n",
      "You Win!\n"
     ]
    }
   ],
   "source": [
    "agent = DDQNAgent(state_size, action_size, learning_rate)\n",
    "\n",
    "agent.epsilon_min = 0.001\n",
    "agent.epsilon = 0.5\n",
    "\n",
    "done = False\n",
    "batch_size = 128\n",
    "EPISODES = 1000\n",
    "counter = 0\n",
    "for e in range(EPISODES):\n",
    "    summary = []\n",
    "    for _ in tqdm(range(100), desc=f'Epoch: {e}', disable=True):\n",
    "        total_reward = 0\n",
    "        state = env.reset()\n",
    "        state = np.array(state, dtype=np.float32)\n",
    "        done = False\n",
    "\n",
    "        for time in range(500):\n",
    "            action = agent.get_action(state)\n",
    "            _state, reward, done, _ = env.step(action)\n",
    "            _state = _state.astype(np.float32)\n",
    "            total_reward += reward\n",
    "\n",
    "            agent.remember(state, action, reward, _state, done)\n",
    "            agent.replay(batch_size)\n",
    "            state = _state\n",
    "            if done:\n",
    "                break\n",
    "\n",
    "        summary.append(total_reward)\n",
    "\n",
    "    print(\"epoch #{}\\tmean reward = {:.3f}\\tepsilon = {:.3f}\".format(e, np.mean(summary), agent.epsilon))\n",
    "    agent.update_epsilon_value()\n",
    "    agent.update_epsilon_value()\n",
    "    if np.mean(summary) > 195:\n",
    "        print (\"You Win!\")\n",
    "        break\n"
   ]
  },
  {
   "cell_type": "code",
   "execution_count": 24,
   "outputs": [],
   "source": [],
   "metadata": {
    "collapsed": false
   }
  }
 ],
 "metadata": {
  "kernelspec": {
   "display_name": "Python 3",
   "language": "python",
   "name": "python3"
  },
  "language_info": {
   "codemirror_mode": {
    "name": "ipython",
    "version": 3
   },
   "file_extension": ".py",
   "mimetype": "text/x-python",
   "name": "python",
   "nbconvert_exporter": "python",
   "pygments_lexer": "ipython3",
   "version": "3.7.5"
  }
 },
 "nbformat": 4,
 "nbformat_minor": 4
}
