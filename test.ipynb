{
 "cells": [
  {
   "cell_type": "code",
   "execution_count": 1,
   "outputs": [],
   "source": [
    "from pickle import load\n",
    "import os\n",
    "from random import choice\n",
    "import time\n",
    "# from agent_example import Agent\n",
    "import vizdoom as vzd\n",
    "from tqdm import tqdm\n",
    "\n",
    "from DDQLAgent import DDQNAgent as Agent\n",
    "from utils import StateWrapper\n",
    "import pickle\n",
    "\n",
    "import numpy as np\n",
    "\n",
    "import torch as T\n",
    "import torch.nn as nn\n",
    "import torch.nn.functional as F"
   ],
   "metadata": {
    "collapsed": false
   }
  },
  {
   "cell_type": "code",
   "execution_count": 2,
   "outputs": [],
   "source": [
    "resolution = (1, 256, 192)"
   ],
   "metadata": {
    "collapsed": false
   }
  },
  {
   "cell_type": "code",
   "execution_count": 3,
   "outputs": [],
   "source": [
    "with open('new_framebuffer.pickle', 'rb') as f:\n",
    "    memory = pickle.load(f)"
   ],
   "metadata": {
    "collapsed": false
   }
  },
  {
   "cell_type": "code",
   "execution_count": 5,
   "outputs": [],
   "source": [
    "states = memory.state_memory\n",
    "variables = memory.vars_memory\n",
    "actions = memory.action_memory[:, :7]"
   ],
   "metadata": {
    "collapsed": false
   }
  },
  {
   "cell_type": "code",
   "execution_count": 6,
   "outputs": [
    {
     "name": "stdout",
     "output_type": "stream",
     "text": [
      "[0. 1. 0. 0. 0. 0. 0.]\n",
      "32.0\n",
      "[0. 0. 0. 0. 0. 0. 0. 0. 0. 0. 0. 0. 0. 0. 0. 0. 0. 0. 0. 0. 0. 0. 0. 0.\n",
      " 0. 0. 0. 0. 0. 0. 0. 0. 1. 0. 0. 0. 0. 0. 0. 0. 0. 0. 0. 0. 0. 0. 0. 0.\n",
      " 0. 0. 0. 0. 0. 0. 0. 0. 0. 0. 0. 0. 0. 0. 0. 0. 0. 0. 0. 0. 0. 0. 0. 0.\n",
      " 0. 0. 0. 0. 0. 0. 0. 0. 0. 0. 0. 0. 0. 0. 0. 0. 0. 0. 0. 0. 0. 0. 0. 0.\n",
      " 0. 0. 0. 0. 0. 0. 0. 0. 0. 0. 0. 0. 0. 0. 0. 0. 0. 0. 0. 0. 0. 0. 0. 0.\n",
      " 0. 0. 0. 0. 0. 0. 0. 0.]\n"
     ]
    }
   ],
   "source": [
    "one_hot_actions = []\n",
    "for a in actions:\n",
    "    if a.sum() == 0:\n",
    "        one_hot_actions.append(np.zeros(2**7))\n",
    "        continue\n",
    "    a = a.dot(1 << np.arange(a.size)[::-1])\n",
    "    temp = np.zeros(2**7)\n",
    "    temp[a] = 1\n",
    "    break\n",
    "    one_hot_actions.append(np.eye(2**7)[int(a)])"
   ],
   "metadata": {
    "collapsed": false
   }
  },
  {
   "cell_type": "code",
   "execution_count": 7,
   "outputs": [
    {
     "name": "stdout",
     "output_type": "stream",
     "text": [
      "[[1. 0. 0. 0. 0. 0. 0. 0.]\n",
      " [0. 1. 0. 0. 0. 0. 0. 0.]\n",
      " [0. 0. 1. 0. 0. 0. 0. 0.]\n",
      " [0. 0. 0. 1. 0. 0. 0. 0.]\n",
      " [0. 0. 0. 0. 1. 0. 0. 0.]\n",
      " [0. 0. 0. 0. 0. 1. 0. 0.]\n",
      " [0. 0. 0. 0. 0. 0. 1. 0.]\n",
      " [0. 0. 0. 0. 0. 0. 0. 1.]]\n"
     ]
    }
   ],
   "source": [
    "print(np.eye(8))"
   ],
   "metadata": {
    "collapsed": false
   }
  },
  {
   "cell_type": "code",
   "execution_count": 23,
   "outputs": [
    {
     "name": "stdout",
     "output_type": "stream",
     "text": [
      "[[0 0 0 1 0 0 1]]\n"
     ]
    }
   ],
   "source": [
    "d = np.array([9])\n",
    "m = 7\n",
    "test = np.flip((((d[:,None] & (1 << np.arange(m)))) > 0).astype(int))\n",
    "print(test)"
   ],
   "metadata": {
    "collapsed": false
   }
  },
  {
   "cell_type": "code",
   "execution_count": 6,
   "outputs": [],
   "source": [
    "one_hot_actions = np.array(one_hot_actions)"
   ],
   "metadata": {
    "collapsed": false
   }
  },
  {
   "cell_type": "code",
   "execution_count": null,
   "outputs": [],
   "source": [
    "agent = Agent(input_dims=(1, resolution[1], resolution[2] * 3), n_actions=2**7, learning_rate=0.0001)\n",
    "agent.q.train()"
   ],
   "metadata": {
    "collapsed": false
   }
  },
  {
   "cell_type": "code",
   "execution_count": 13,
   "outputs": [],
   "source": [
    "del memory"
   ],
   "metadata": {
    "collapsed": false
   }
  },
  {
   "cell_type": "code",
   "execution_count": 14,
   "outputs": [],
   "source": [
    "EPOCHS = 100\n",
    "BATCH_SIZE = 128"
   ],
   "metadata": {
    "collapsed": false
   }
  },
  {
   "cell_type": "code",
   "execution_count": 15,
   "outputs": [
    {
     "name": "stderr",
     "output_type": "stream",
     "text": [
      "  0%|          | 0/100 [00:28<?, ?it/s]\n"
     ]
    },
    {
     "ename": "KeyboardInterrupt",
     "evalue": "",
     "output_type": "error",
     "traceback": [
      "\u001B[1;31m---------------------------------------------------------------------------\u001B[0m",
      "\u001B[1;31mKeyboardInterrupt\u001B[0m                         Traceback (most recent call last)",
      "Cell \u001B[1;32mIn[15], line 10\u001B[0m\n\u001B[0;32m      7\u001B[0m batch_variables \u001B[38;5;241m=\u001B[39m variables[batch_indexes]\n\u001B[0;32m      8\u001B[0m batch_actions \u001B[38;5;241m=\u001B[39m one_hot_actions[batch_indexes]\n\u001B[1;32m---> 10\u001B[0m batch_states \u001B[38;5;241m=\u001B[39m \u001B[43mT\u001B[49m\u001B[38;5;241;43m.\u001B[39;49m\u001B[43mtensor\u001B[49m\u001B[43m(\u001B[49m\u001B[43mbatch_states\u001B[49m\u001B[43m,\u001B[49m\u001B[43m \u001B[49m\u001B[43mdtype\u001B[49m\u001B[38;5;241;43m=\u001B[39;49m\u001B[43mT\u001B[49m\u001B[38;5;241;43m.\u001B[39;49m\u001B[43mfloat\u001B[49m\u001B[43m)\u001B[49m\u001B[38;5;241;43m.\u001B[39;49m\u001B[43mto\u001B[49m\u001B[43m(\u001B[49m\u001B[43magent\u001B[49m\u001B[38;5;241;43m.\u001B[39;49m\u001B[43mq\u001B[49m\u001B[38;5;241;43m.\u001B[39;49m\u001B[43mdevice\u001B[49m\u001B[43m)\u001B[49m\n\u001B[0;32m     11\u001B[0m batch_variables \u001B[38;5;241m=\u001B[39m T\u001B[38;5;241m.\u001B[39mtensor(batch_variables, dtype\u001B[38;5;241m=\u001B[39mT\u001B[38;5;241m.\u001B[39mfloat)\u001B[38;5;241m.\u001B[39mto(agent\u001B[38;5;241m.\u001B[39mq\u001B[38;5;241m.\u001B[39mdevice)\n\u001B[0;32m     12\u001B[0m batch_actions \u001B[38;5;241m=\u001B[39m T\u001B[38;5;241m.\u001B[39mtensor(batch_actions, dtype\u001B[38;5;241m=\u001B[39mT\u001B[38;5;241m.\u001B[39mfloat)\u001B[38;5;241m.\u001B[39mto(agent\u001B[38;5;241m.\u001B[39mq\u001B[38;5;241m.\u001B[39mdevice)\n",
      "\u001B[1;31mKeyboardInterrupt\u001B[0m: "
     ]
    }
   ],
   "source": [
    "for epoch in tqdm(range(EPOCHS)):\n",
    "    indexes = np.arange(len(states))\n",
    "    np.random.shuffle(indexes)\n",
    "    for i in range(len(states)//BATCH_SIZE):\n",
    "        batch_indexes = indexes[i*BATCH_SIZE:(i+1)*BATCH_SIZE]\n",
    "        batch_states = states[batch_indexes]\n",
    "        batch_variables = variables[batch_indexes]\n",
    "        batch_actions = one_hot_actions[batch_indexes]\n",
    "\n",
    "        batch_states = T.tensor(batch_states, dtype=T.float).to(agent.q.device)\n",
    "        batch_variables = T.tensor(batch_variables, dtype=T.float).to(agent.q.device)\n",
    "        batch_actions = T.tensor(batch_actions, dtype=T.float).to(agent.q.device)\n",
    "\n",
    "        agent.q.optimizer.zero_grad()\n",
    "        preds = agent.q(batch_states, batch_variables)\n",
    "        loss = agent.q.loss(preds, batch_actions).to(agent.q.device)\n",
    "        loss.backward()\n",
    "        agent.q.optimizer.step()"
   ],
   "metadata": {
    "collapsed": false
   }
  },
  {
   "cell_type": "code",
   "execution_count": null,
   "outputs": [],
   "source": [
    "# agent.update_weights(tau=1)"
   ],
   "metadata": {
    "collapsed": false,
    "pycharm": {
     "is_executing": true
    }
   }
  },
  {
   "cell_type": "code",
   "execution_count": null,
   "outputs": [],
   "source": [
    "os.makedirs(f\"tmp/ddql/fitted\", exist_ok=True)\n",
    "agent.save_model(path='./tmp/ddql/fitted')"
   ],
   "metadata": {
    "collapsed": false,
    "pycharm": {
     "is_executing": true
    }
   }
  },
  {
   "cell_type": "code",
   "execution_count": null,
   "outputs": [],
   "source": [],
   "metadata": {
    "collapsed": false
   }
  }
 ],
 "metadata": {
  "kernelspec": {
   "display_name": "Python 3",
   "language": "python",
   "name": "python3"
  },
  "language_info": {
   "codemirror_mode": {
    "name": "ipython",
    "version": 2
   },
   "file_extension": ".py",
   "mimetype": "text/x-python",
   "name": "python",
   "nbconvert_exporter": "python",
   "pygments_lexer": "ipython2",
   "version": "2.7.6"
  }
 },
 "nbformat": 4,
 "nbformat_minor": 0
}
