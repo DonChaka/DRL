{
 "cells": [
  {
   "cell_type": "markdown",
   "metadata": {},
   "source": [
    "# Laboratorium 4 (4 pkt.)\n",
    "\n",
    "Celem czwartego laboratorium jest zapoznanie się oraz zaimplementowanie algorytmów głębokiego uczenia aktywnego. Zaimplementowane algorytmy będą testowane z wykorzystaniem wcześniej przygotowanych środowisk: *FrozenLake* i *Pacman* oraz środowiska z OpenAI - *CartPole*.\n"
   ]
  },
  {
   "cell_type": "markdown",
   "metadata": {},
   "source": [
    "Dołączenie standardowych bibliotek"
   ]
  },
  {
   "cell_type": "code",
   "execution_count": 1,
   "metadata": {},
   "outputs": [],
   "source": [
    "from collections import deque\n",
    "import gym\n",
    "import numpy as np\n",
    "import random\n",
    "from tqdm import tqdm\n",
    "from numpy import ndarray"
   ]
  },
  {
   "cell_type": "markdown",
   "metadata": {},
   "source": [
    "Dołączenie bibliotek ze środowiskami:"
   ]
  },
  {
   "cell_type": "code",
   "execution_count": 2,
   "metadata": {},
   "outputs": [],
   "source": [
    "from env.FrozenLakeMDP import frozenLake\n",
    "from env.FrozenLakeMDPExtended import frozenLakeExtended\n"
   ]
  },
  {
   "cell_type": "markdown",
   "metadata": {},
   "source": [
    "Dołączenie bibliotek do obsługi sieci neuronowych"
   ]
  },
  {
   "cell_type": "code",
   "execution_count": 3,
   "metadata": {},
   "outputs": [],
   "source": [
    "import torch as T\n",
    "import torch.nn as nn\n",
    "import torch.nn.functional as F\n",
    "import torch.optim as optim"
   ]
  },
  {
   "cell_type": "code",
   "execution_count": 4,
   "metadata": {},
   "outputs": [],
   "source": [
    "# import tensorflow as tf\n",
    "# from tensorflow.keras.layers import Dense, ReLU\n",
    "# from tensorflow.keras.models import Sequential\n",
    "# from tensorflow.keras.optimizers import Adam"
   ]
  },
  {
   "cell_type": "markdown",
   "metadata": {},
   "source": [
    "## Zadanie 1 - Deep Q-Network\n",
    "\n",
    "<p style='text-align: justify;'>\n",
    "Celem ćwiczenie jest zaimplementowanie algorytmu Deep Q-Network. Wartoscią oczekiwaną sieci jest:\n",
    "\\begin{equation}\n",
    "        Q(s_t, a_t) = r_{t+1} + \\gamma \\text{max}_a Q(s_{t + 1}, a)\n",
    "\\end{equation}\n",
    "</p>"
   ]
  },
  {
   "cell_type": "code",
   "execution_count": 5,
   "metadata": {
    "collapsed": false
   },
   "outputs": [],
   "source": [
    "class ReplayBuffer(object):\n",
    "    def __init__(self, mem_size, state_shape):\n",
    "        self.mem_size = mem_size\n",
    "        self.mem_cntr = 0\n",
    "        self.state_memory = np.zeros((self.mem_size, state_shape), dtype=np.float32)\n",
    "        self.new_state_memory = np.zeros((self.mem_size, state_shape), dtype=np.float32)\n",
    "        self.action_memory = np.zeros(self.mem_size, dtype=np.int32)\n",
    "        self.reward_memory = np.zeros(self.mem_size, dtype=np.float32)\n",
    "        self.terminal_memory = np.zeros(self.mem_size, dtype=bool)\n",
    "\n",
    "    def store_transition(self, state, action, reward, _state, done):\n",
    "        index = self.mem_cntr % self.mem_size\n",
    "        self.state_memory[index] = state\n",
    "        self.new_state_memory[index] = _state\n",
    "        self.action_memory[index] = action\n",
    "        self.reward_memory[index] = reward\n",
    "        self.terminal_memory[index] = 1 - done\n",
    "        self.mem_cntr += 1\n",
    "\n",
    "    @staticmethod\n",
    "    def _softmax(x: ndarray) -> ndarray:\n",
    "        return np.exp(x) / np.exp(x).sum()\n",
    "\n",
    "    def sample_buffer(self, batch_size):\n",
    "        max_mem = min(self.mem_cntr, self.mem_size)\n",
    "\n",
    "        probs = self._softmax(np.abs(self.reward_memory[:max_mem]))\n",
    "        batch = np.random.choice(max_mem, batch_size)\n",
    "\n",
    "        states = self.state_memory[batch]\n",
    "        actions = self.action_memory[batch]\n",
    "        rewards = self.reward_memory[batch]\n",
    "        _states = self.new_state_memory[batch]\n",
    "        done = self.terminal_memory[batch]\n",
    "\n",
    "        return states, actions, rewards, _states, done"
   ]
  },
  {
   "cell_type": "code",
   "execution_count": 6,
   "metadata": {},
   "outputs": [],
   "source": [
    "# class DQNAgent: # Tensorflow\n",
    "#     def __init__(self, action_size, state_size, learning_rate, model):\n",
    "#         self.action_size = action_size\n",
    "#         self.memory = ReplayBuffer(1000000, state_size)\n",
    "#         self.gamma = 0.95    # discount rate\n",
    "#         self.epsilon = 1.0  # exploration rate\n",
    "#         self.epsilon_min = 0.01\n",
    "#         self.epsilon_decay = 0.001\n",
    "#         self.learning_rate = learning_rate\n",
    "#         self.model = model\n",
    "#         self.evaluate = False\n",
    "#\n",
    "#     def remember(self, state, action, reward, _state, done):\n",
    "#         self.memory.store_transition(state, action, reward, _state, done)\n",
    "#\n",
    "#     def get_action(self, state):\n",
    "#         state = state.reshape(1, -1)\n",
    "#         if np.random.random() <= self.epsilon and not self.evaluate:\n",
    "#             action = np.random.choice(self.action_size)\n",
    "#         else:\n",
    "#             actions = self.model.predict(state, verbose=0)\n",
    "#             action = np.argmax(actions)\n",
    "#\n",
    "#\n",
    "#         return action\n",
    "#\n",
    "#     def get_best_action(self, state):\n",
    "#         state = state.reshape(1, -1)\n",
    "#         actions = self.model.predict(state, verbose=0)\n",
    "#         action = np.argmax(actions)\n",
    "#\n",
    "#         return action\n",
    "#\n",
    "#     def learn(self, batch_size):\n",
    "#         if self.memory.mem_cntr < batch_size:\n",
    "#             return\n",
    "#\n",
    "#         states, actions, rewards, _states, done = self.memory.sample_buffer(batch_size)\n",
    "#\n",
    "#         q_pred = self.model.predict(states, verbose=0)\n",
    "#         q_next = self.model.predict(_states, verbose=0)\n",
    "#\n",
    "#         max_actions = np.argmax(q_pred, axis=1)\n",
    "#\n",
    "#         batch_index = np.arange(batch_size, dtype=np.int32)\n",
    "#\n",
    "#         q_pred[batch_index, actions] = rewards + self.gamma * q_next[batch_index, max_actions.astype(int)] * (1-done)\n",
    "#\n",
    "#         self.model.train_on_batch(states, q_pred)\n",
    "#\n",
    "#     def update_epsilon_value(self):\n",
    "#         self.epsilon = self.epsilon - self.epsilon_decay if self.epsilon > self.epsilon_min else self.epsilon_min\n"
   ]
  },
  {
   "cell_type": "code",
   "execution_count": 7,
   "metadata": {},
   "outputs": [],
   "source": [
    "# def get_model(input_shape, action_size, fc1, fc2):\n",
    "#     model = Sequential([\n",
    "#         Dense(fc1, input_shape=input_shape),\n",
    "#         ReLU(),\n",
    "#         Dense(fc2),\n",
    "#         ReLU(),\n",
    "#         Dense(action_size, activation=None),\n",
    "#     ])\n",
    "#\n",
    "#     model.compile(loss='mse', optimizer=Adam(learning_rate==0.001))\n",
    "#\n",
    "#     return model"
   ]
  },
  {
   "cell_type": "code",
   "execution_count": 18,
   "metadata": {
    "collapsed": false
   },
   "outputs": [],
   "source": [
    "class DQNAgent: # Pytorch\n",
    "    def __init__(self, action_size, state_size, learning_rate, model):\n",
    "        self.action_size = action_size\n",
    "        self.memory = ReplayBuffer(1000, state_size)\n",
    "        self.gamma = 0.95    # discount rate\n",
    "        self.epsilon = 1.0  # exploration rate\n",
    "        self.epsilon_min = 0.01\n",
    "        self.epsilon_decay = 0.05\n",
    "        self.learning_rate = learning_rate\n",
    "        self.q = model\n",
    "        self.evaluate = False\n",
    "\n",
    "    def remember(self, state, action, reward, _state, done):\n",
    "        self.memory.store_transition(state, action, reward, _state, done)\n",
    "\n",
    "    def get_action(self, state):\n",
    "        if np.random.random() <= self.epsilon and not self.evaluate:\n",
    "            action = np.random.choice(self.action_size)\n",
    "        else:\n",
    "            state = T.tensor(state).to(self.q.device)\n",
    "            actions = self.q.forward(state)\n",
    "            action = T.argmax(actions).item()\n",
    "\n",
    "        return action\n",
    "\n",
    "    def get_best_action(self, state):\n",
    "        state = T.tensor(state).to(self.q.device)\n",
    "        actions = self.q.forward(state)\n",
    "        action = T.argmax(actions).item()\n",
    "\n",
    "        return action\n",
    "\n",
    "    def learn(self, batch_size):\n",
    "        if self.memory.mem_cntr < batch_size:\n",
    "            return\n",
    "\n",
    "        states, actions, rewards, _states, done = self.memory.sample_buffer(batch_size)\n",
    "\n",
    "        states = T.tensor(states).to(self.q.device)\n",
    "        _states = T.tensor(_states).to(self.q.device)\n",
    "\n",
    "\n",
    "        q_next = self.q.forward(_states).cpu().detach().numpy()\n",
    "        q_pred = self.q.forward(states)\n",
    "        q_target = q_pred.cpu().detach().numpy().copy()\n",
    "\n",
    "        max_actions = np.argmax(q_next, axis=1)\n",
    "\n",
    "        batch_index = np.arange(batch_size, dtype=np.int32)\n",
    "\n",
    "        q_target[batch_index, actions] = rewards + self.gamma * q_next[batch_index, max_actions] * (1-done)\n",
    "        q_target = T.tensor(q_target).to(self.q.device)\n",
    "\n",
    "        # q_pred = T.tensor(q_pred, requires_grad=True).to(self.q.device)\n",
    "\n",
    "        self.q.optimizer.zero_grad()\n",
    "        loss = self.q.loss(q_pred, q_target).to(self.q.device)\n",
    "        loss.backward()\n",
    "        self.q.optimizer.step()\n",
    "\n",
    "    def update_epsilon_value(self):\n",
    "        self.epsilon = self.epsilon - self.epsilon_decay if self.epsilon > self.epsilon_min else self.epsilon_min"
   ]
  },
  {
   "cell_type": "markdown",
   "metadata": {},
   "source": [
    "Czas przygotować model sieci, która będzie się uczyła poruszania po środowisku *FrozenLake*, warstwa wejściowa powinna mieć tyle neuronów ile jest możlliwych stanów, warstwa wyjściowa tyle neuronów ile jest możliwych akcji do wykonania:"
   ]
  },
  {
   "cell_type": "code",
   "execution_count": 19,
   "metadata": {
    "collapsed": false
   },
   "outputs": [],
   "source": [
    "class DQN(nn.Module):\n",
    "    def __init__(self, lr, state_shape, n_actions, fc1, fc2):\n",
    "        super(DQN, self).__init__()\n",
    "\n",
    "        self.fc1 = nn.Linear(state_shape, fc1)\n",
    "        self.fc2 = nn.Linear(fc1, fc2)\n",
    "        self.output = nn.Linear(fc2, n_actions)\n",
    "        self.optimizer = optim.Adam(self.parameters(), lr=lr)\n",
    "        self.loss = nn.MSELoss()\n",
    "        self.device = T.device('cuda:0')\n",
    "        self.to(self.device)\n",
    "\n",
    "    def forward(self, state):\n",
    "        state = F.relu(self.fc1(state))\n",
    "        state = F.relu(self.fc2(state))\n",
    "        actions = self.output(state)\n",
    "\n",
    "        return actions"
   ]
  },
  {
   "cell_type": "code",
   "execution_count": 20,
   "metadata": {
    "collapsed": false
   },
   "outputs": [],
   "source": [
    "env = frozenLake(\"8x8\")\n",
    "\n",
    "state_size = env.get_number_of_states()\n",
    "action_size = len(env.get_possible_actions(None))\n",
    "learning_rate = 0.001"
   ]
  },
  {
   "cell_type": "markdown",
   "metadata": {},
   "source": [
    " Czas nauczyć agenta poruszania się po środowisku *FrozenLake*, jako stan przyjmij wektor o liczbie elementów równej liczbie możliwych stanów, z wartością 1 ustawioną w komórce o indeksie równym aktualnemu stanowi, pozostałe elementy mają być wypełnione zerami:\n",
    "* 1 pkt < 35 epok,\n",
    "* 0.5 pkt < 60 epok,\n",
    "* 0.25 pkt - w pozostałych przypadkach."
   ]
  },
  {
   "cell_type": "code",
   "execution_count": 21,
   "outputs": [],
   "source": [
    "def check_action_values(agent: DQNAgent, state_size: int):\n",
    "    rets = []\n",
    "    for i_state in range(state_size):\n",
    "        state = np.zeros(state_size, dtype=np.float32)\n",
    "        state[i_state] = 1\n",
    "        state = T.tensor(state).to(agent.q.device)\n",
    "        rets.append(agent.q(state).cpu().detach().numpy())\n",
    "    rets = np.array(rets).reshape(state_size, 4)\n",
    "    with np.printoptions(precision=4, suppress=True):\n",
    "        print(rets)"
   ],
   "metadata": {
    "collapsed": false
   }
  },
  {
   "cell_type": "code",
   "execution_count": 22,
   "outputs": [
    {
     "name": "stderr",
     "output_type": "stream",
     "text": [
      "Epoch: 0: 100%|██████████| 100/100 [00:08<00:00, 11.93it/s]\n"
     ]
    },
    {
     "name": "stdout",
     "output_type": "stream",
     "text": [
      "epoch #0\tmean reward = 0.000\tepsilon = 1.000\n"
     ]
    },
    {
     "name": "stderr",
     "output_type": "stream",
     "text": [
      "Epoch: 1: 100%|██████████| 100/100 [00:07<00:00, 12.94it/s]\n"
     ]
    },
    {
     "name": "stdout",
     "output_type": "stream",
     "text": [
      "epoch #1\tmean reward = 0.000\tepsilon = 0.950\n"
     ]
    },
    {
     "name": "stderr",
     "output_type": "stream",
     "text": [
      "Epoch: 2: 100%|██████████| 100/100 [00:08<00:00, 11.53it/s]\n"
     ]
    },
    {
     "name": "stdout",
     "output_type": "stream",
     "text": [
      "epoch #2\tmean reward = 0.000\tepsilon = 0.900\n"
     ]
    },
    {
     "name": "stderr",
     "output_type": "stream",
     "text": [
      "Epoch: 3: 100%|██████████| 100/100 [00:08<00:00, 11.17it/s]\n"
     ]
    },
    {
     "name": "stdout",
     "output_type": "stream",
     "text": [
      "epoch #3\tmean reward = 0.000\tepsilon = 0.850\n"
     ]
    },
    {
     "name": "stderr",
     "output_type": "stream",
     "text": [
      "Epoch: 4: 100%|██████████| 100/100 [00:09<00:00, 10.82it/s]\n"
     ]
    },
    {
     "name": "stdout",
     "output_type": "stream",
     "text": [
      "epoch #4\tmean reward = 0.000\tepsilon = 0.800\n"
     ]
    },
    {
     "name": "stderr",
     "output_type": "stream",
     "text": [
      "Epoch: 5: 100%|██████████| 100/100 [00:11<00:00,  8.92it/s]\n"
     ]
    },
    {
     "name": "stdout",
     "output_type": "stream",
     "text": [
      "epoch #5\tmean reward = 0.000\tepsilon = 0.750\n"
     ]
    },
    {
     "name": "stderr",
     "output_type": "stream",
     "text": [
      "Epoch: 6: 100%|██████████| 100/100 [00:08<00:00, 11.52it/s]\n"
     ]
    },
    {
     "name": "stdout",
     "output_type": "stream",
     "text": [
      "epoch #6\tmean reward = 0.000\tepsilon = 0.700\n"
     ]
    },
    {
     "name": "stderr",
     "output_type": "stream",
     "text": [
      "Epoch: 7: 100%|██████████| 100/100 [00:09<00:00, 10.45it/s]\n"
     ]
    },
    {
     "name": "stdout",
     "output_type": "stream",
     "text": [
      "epoch #7\tmean reward = 0.000\tepsilon = 0.650\n"
     ]
    },
    {
     "name": "stderr",
     "output_type": "stream",
     "text": [
      "Epoch: 8: 100%|██████████| 100/100 [00:12<00:00,  8.20it/s]\n"
     ]
    },
    {
     "name": "stdout",
     "output_type": "stream",
     "text": [
      "epoch #8\tmean reward = 0.020\tepsilon = 0.600\n"
     ]
    },
    {
     "name": "stderr",
     "output_type": "stream",
     "text": [
      "Epoch: 9: 100%|██████████| 100/100 [00:10<00:00,  9.21it/s]\n"
     ]
    },
    {
     "name": "stdout",
     "output_type": "stream",
     "text": [
      "epoch #9\tmean reward = 0.000\tepsilon = 0.550\n"
     ]
    },
    {
     "name": "stderr",
     "output_type": "stream",
     "text": [
      "Epoch: 10: 100%|██████████| 100/100 [00:11<00:00,  8.39it/s]\n"
     ]
    },
    {
     "name": "stdout",
     "output_type": "stream",
     "text": [
      "epoch #10\tmean reward = 0.010\tepsilon = 0.500\n"
     ]
    },
    {
     "name": "stderr",
     "output_type": "stream",
     "text": [
      "Epoch: 11: 100%|██████████| 100/100 [00:12<00:00,  7.94it/s]\n"
     ]
    },
    {
     "name": "stdout",
     "output_type": "stream",
     "text": [
      "epoch #11\tmean reward = 0.000\tepsilon = 0.450\n"
     ]
    },
    {
     "name": "stderr",
     "output_type": "stream",
     "text": [
      "Epoch: 12: 100%|██████████| 100/100 [00:12<00:00,  7.80it/s]\n"
     ]
    },
    {
     "name": "stdout",
     "output_type": "stream",
     "text": [
      "epoch #12\tmean reward = 0.000\tepsilon = 0.400\n"
     ]
    },
    {
     "name": "stderr",
     "output_type": "stream",
     "text": [
      "Epoch: 13: 100%|██████████| 100/100 [00:11<00:00,  8.47it/s]\n"
     ]
    },
    {
     "name": "stdout",
     "output_type": "stream",
     "text": [
      "epoch #13\tmean reward = 0.000\tepsilon = 0.350\n"
     ]
    },
    {
     "name": "stderr",
     "output_type": "stream",
     "text": [
      "Epoch: 14: 100%|██████████| 100/100 [00:16<00:00,  6.14it/s]\n"
     ]
    },
    {
     "name": "stdout",
     "output_type": "stream",
     "text": [
      "epoch #14\tmean reward = 0.010\tepsilon = 0.300\n"
     ]
    },
    {
     "name": "stderr",
     "output_type": "stream",
     "text": [
      "Epoch: 15: 100%|██████████| 100/100 [00:14<00:00,  7.13it/s]\n"
     ]
    },
    {
     "name": "stdout",
     "output_type": "stream",
     "text": [
      "epoch #15\tmean reward = 0.060\tepsilon = 0.250\n"
     ]
    },
    {
     "name": "stderr",
     "output_type": "stream",
     "text": [
      "Epoch: 16: 100%|██████████| 100/100 [00:16<00:00,  6.10it/s]\n"
     ]
    },
    {
     "name": "stdout",
     "output_type": "stream",
     "text": [
      "epoch #16\tmean reward = 0.120\tepsilon = 0.200\n"
     ]
    },
    {
     "name": "stderr",
     "output_type": "stream",
     "text": [
      "Epoch: 17: 100%|██████████| 100/100 [00:21<00:00,  4.55it/s]\n"
     ]
    },
    {
     "name": "stdout",
     "output_type": "stream",
     "text": [
      "epoch #17\tmean reward = 0.230\tepsilon = 0.150\n"
     ]
    },
    {
     "name": "stderr",
     "output_type": "stream",
     "text": [
      "Epoch: 18: 100%|██████████| 100/100 [00:20<00:00,  4.84it/s]\n"
     ]
    },
    {
     "name": "stdout",
     "output_type": "stream",
     "text": [
      "epoch #18\tmean reward = 0.410\tepsilon = 0.100\n"
     ]
    },
    {
     "name": "stderr",
     "output_type": "stream",
     "text": [
      "Epoch: 19: 100%|██████████| 100/100 [00:33<00:00,  2.99it/s]\n"
     ]
    },
    {
     "name": "stdout",
     "output_type": "stream",
     "text": [
      "epoch #19\tmean reward = 0.500\tepsilon = 0.050\n"
     ]
    },
    {
     "name": "stderr",
     "output_type": "stream",
     "text": [
      "Epoch: 20: 100%|██████████| 100/100 [00:44<00:00,  2.22it/s]"
     ]
    },
    {
     "name": "stdout",
     "output_type": "stream",
     "text": [
      "epoch #20\tmean reward = 0.990\tepsilon = -0.000\n",
      "You Win!\n"
     ]
    },
    {
     "name": "stderr",
     "output_type": "stream",
     "text": [
      "\n"
     ]
    }
   ],
   "source": [
    "model = DQN(learning_rate, state_size, action_size, 128, 128)\n",
    "\n",
    "agent = DQNAgent(action_size, state_size, learning_rate, model)\n",
    "agent.epsilon = 1\n",
    "\n",
    "done = False\n",
    "batch_size = 64\n",
    "EPISODES = 60\n",
    "counter = 0\n",
    "for e in range(EPISODES):\n",
    "    summary = []\n",
    "    for _ in tqdm(range(100), desc=f'Epoch: {e}'):\n",
    "        total_reward = 0\n",
    "        i_state = env.reset()\n",
    "    \n",
    "        state = np.zeros(state_size, dtype=np.float32)\n",
    "        state[i_state] = 1\n",
    "        \n",
    "        for time in range(1000):\n",
    "            action = agent.get_action(state)\n",
    "            _i_state, reward, done, _ = env.step(action)\n",
    "            total_reward += reward\n",
    "\n",
    "            _state = np.zeros(state_size, dtype=np.float32)\n",
    "            _state[_i_state] = 1\n",
    "\n",
    "            if np.allclose(state, _state):\n",
    "                reward = -1\n",
    "\n",
    "            if done and not reward:\n",
    "                reward = -1\n",
    "\n",
    "            agent.remember(state, action, reward, _state, done)\n",
    "            agent.learn(batch_size)\n",
    "            \n",
    "            state = _state\n",
    "            if done:\n",
    "                break\n",
    "\n",
    "        summary.append(total_reward)\n",
    "    print(\"epoch #{}\\tmean reward = {:.3f}\\tepsilon = {:.3f}\".format(e, np.mean(summary), agent.epsilon))\n",
    "    agent.update_epsilon_value()\n",
    "\n",
    "    if np.mean(summary) > 0.9:\n",
    "        print (\"You Win!\")\n",
    "        break\n"
   ],
   "metadata": {
    "collapsed": false
   }
  },
  {
   "cell_type": "markdown",
   "metadata": {},
   "source": [
    "Czas przygotować model sieci, która będzie się uczyła poruszania po środowisku *FrozenLakeExtended*, tym razem stan nie jest określany poprzez pojedynczą liczbę, a przez 3 tablice:\n",
    "* pierwsza zawierająca informacje o celu,\n",
    "* druga zawierająca informacje o dziurach,\n",
    "* trzecia zawierająca informację o położeniu gracza."
   ]
  },
  {
   "cell_type": "code",
   "execution_count": 60,
   "metadata": {},
   "outputs": [],
   "source": [
    "env = frozenLakeExtended(\"4x4\")\n",
    "\n",
    "state_size = env.get_number_of_states()\n",
    "action_size = len(env.get_possible_actions(None))\n",
    "learning_rate = 0.001\n",
    "\n",
    "model = DQN(learning_rate, 48, action_size, 128, 64)"
   ]
  },
  {
   "cell_type": "markdown",
   "metadata": {},
   "source": [
    " Czas nauczyć agenta poruszania się po środowisku *FrozenLakeExtended*, jako stan przyjmij wektor składający się ze wszystkich trzech tablic (2 pkt.):"
   ]
  },
  {
   "cell_type": "code",
   "execution_count": 63,
   "metadata": {},
   "outputs": [
    {
     "name": "stdout",
     "output_type": "stream",
     "text": [
      "epoch #0\tmean reward = 0.000\tepsilon = 0.750\n",
      "epoch #1\tmean reward = 0.070\tepsilon = 0.700\n",
      "epoch #2\tmean reward = 0.090\tepsilon = 0.650\n",
      "epoch #3\tmean reward = 0.130\tepsilon = 0.600\n",
      "epoch #4\tmean reward = 0.080\tepsilon = 0.550\n",
      "epoch #5\tmean reward = 0.190\tepsilon = 0.500\n",
      "epoch #6\tmean reward = 0.180\tepsilon = 0.450\n",
      "epoch #7\tmean reward = 0.200\tepsilon = 0.400\n",
      "epoch #8\tmean reward = 0.230\tepsilon = 0.350\n",
      "epoch #9\tmean reward = 0.260\tepsilon = 0.300\n",
      "epoch #10\tmean reward = 0.270\tepsilon = 0.250\n",
      "epoch #11\tmean reward = 0.390\tepsilon = 0.200\n",
      "epoch #12\tmean reward = 0.450\tepsilon = 0.150\n",
      "epoch #13\tmean reward = 0.600\tepsilon = 0.100\n",
      "epoch #14\tmean reward = 0.790\tepsilon = 0.050\n",
      "epoch #15\tmean reward = 1.000\tepsilon = -0.000\n",
      "You Win!\n"
     ]
    }
   ],
   "source": [
    "agent = DQNAgent(action_size, 48, learning_rate, model)\n",
    "\n",
    "agent.epsilon = 0.75\n",
    "\n",
    "done = False\n",
    "batch_size = 64\n",
    "EPISODES = 2000\n",
    "counter = 0\n",
    "for e in range(EPISODES):\n",
    "    summary = []\n",
    "    for _ in range(100):\n",
    "        total_reward = 0\n",
    "        state = env.reset()\n",
    "        state = np.array(state).reshape(-1,).astype(np.float32)\n",
    "\n",
    "        \n",
    "        for time in range(1000):\n",
    "            action = agent.get_action(state)\n",
    "            _state, reward, done, _ = env.step(action)\n",
    "            _state = np.array(_state).reshape(-1,).astype(np.float32)\n",
    "            total_reward += reward\n",
    "\n",
    "            if np.allclose(state, _state):\n",
    "                reward = -1\n",
    "\n",
    "            if done and not reward:\n",
    "                reward = -1\n",
    "\n",
    "            agent.remember(state, action, reward, _state, done)\n",
    "            agent.learn(batch_size)\n",
    "            state = _state\n",
    "            if done:\n",
    "                break\n",
    "\n",
    "\n",
    "        summary.append(total_reward)\n",
    "\n",
    "    print(\"epoch #{}\\tmean reward = {:.3f}\\tepsilon = {:.3f}\".format(e, np.mean(summary), agent.epsilon))\n",
    "    agent.update_epsilon_value()\n",
    "    if np.mean(summary) > 0.9:\n",
    "        print (\"You Win!\")\n",
    "        break"
   ]
  },
  {
   "cell_type": "markdown",
   "metadata": {},
   "source": [
    "Czas przygotować model sieci, która będzie się uczyła działania w środowisku [*CartPool*](https://gym.openai.com/envs/CartPole-v0/):"
   ]
  },
  {
   "cell_type": "code",
   "execution_count": 64,
   "metadata": {},
   "outputs": [],
   "source": [
    "env = gym.make(\"CartPole-v0\")\n",
    "state_size = env.observation_space.shape[0]\n",
    "action_size = env.action_space.n\n",
    "learning_rate = 0.005\n"
   ]
  },
  {
   "cell_type": "markdown",
   "metadata": {},
   "source": [
    "Czas nauczyć agenta gry w środowisku *CartPool*:\n",
    "* 1 pkt < 10 epok,\n",
    "* 0.5 pkt < 20 epok,\n",
    "* 0.25 pkt - w pozostałych przypadkach."
   ]
  },
  {
   "cell_type": "code",
   "execution_count": 72,
   "metadata": {},
   "outputs": [
    {
     "name": "stdout",
     "output_type": "stream",
     "text": [
      "epoch #0\tmean reward = 16.670\tepsilon = 0.450\n",
      "epoch #1\tmean reward = 17.600\tepsilon = 0.400\n",
      "epoch #2\tmean reward = 20.020\tepsilon = 0.350\n",
      "epoch #3\tmean reward = 30.380\tepsilon = 0.300\n",
      "epoch #4\tmean reward = 12.090\tepsilon = 0.250\n",
      "epoch #5\tmean reward = 21.250\tepsilon = 0.200\n",
      "epoch #6\tmean reward = 10.890\tepsilon = 0.150\n",
      "epoch #7\tmean reward = 13.440\tepsilon = 0.100\n",
      "epoch #8\tmean reward = 9.960\tepsilon = 0.050\n",
      "epoch #9\tmean reward = 9.840\tepsilon = 0.000\n",
      "epoch #10\tmean reward = 9.540\tepsilon = 0.010\n",
      "epoch #11\tmean reward = 9.540\tepsilon = 0.010\n",
      "epoch #12\tmean reward = 9.510\tepsilon = 0.010\n",
      "epoch #13\tmean reward = 9.470\tepsilon = 0.010\n",
      "epoch #14\tmean reward = 9.690\tepsilon = 0.010\n",
      "epoch #15\tmean reward = 9.650\tepsilon = 0.010\n",
      "epoch #16\tmean reward = 9.550\tepsilon = 0.010\n",
      "epoch #17\tmean reward = 9.480\tepsilon = 0.010\n",
      "epoch #18\tmean reward = 9.500\tepsilon = 0.010\n",
      "epoch #19\tmean reward = 9.630\tepsilon = 0.010\n",
      "epoch #20\tmean reward = 9.530\tepsilon = 0.010\n",
      "epoch #21\tmean reward = 9.510\tepsilon = 0.010\n"
     ]
    },
    {
     "ename": "KeyboardInterrupt",
     "evalue": "",
     "output_type": "error",
     "traceback": [
      "\u001B[1;31m---------------------------------------------------------------------------\u001B[0m",
      "\u001B[1;31mKeyboardInterrupt\u001B[0m                         Traceback (most recent call last)",
      "Cell \u001B[1;32mIn[72], line 24\u001B[0m\n\u001B[0;32m     21\u001B[0m _state \u001B[38;5;241m=\u001B[39m _state\u001B[38;5;241m.\u001B[39mastype(np\u001B[38;5;241m.\u001B[39mfloat32)\n\u001B[0;32m     23\u001B[0m agent\u001B[38;5;241m.\u001B[39mremember(state, action, reward, _state, done)\n\u001B[1;32m---> 24\u001B[0m \u001B[43magent\u001B[49m\u001B[38;5;241;43m.\u001B[39;49m\u001B[43mlearn\u001B[49m\u001B[43m(\u001B[49m\u001B[43mbatch_size\u001B[49m\u001B[43m)\u001B[49m\n\u001B[0;32m     25\u001B[0m state \u001B[38;5;241m=\u001B[39m _state\n\u001B[0;32m     26\u001B[0m \u001B[38;5;28;01mif\u001B[39;00m done:\n",
      "Cell \u001B[1;32mIn[18], line 37\u001B[0m, in \u001B[0;36mDQNAgent.learn\u001B[1;34m(self, batch_size)\u001B[0m\n\u001B[0;32m     34\u001B[0m \u001B[38;5;28;01mif\u001B[39;00m \u001B[38;5;28mself\u001B[39m\u001B[38;5;241m.\u001B[39mmemory\u001B[38;5;241m.\u001B[39mmem_cntr \u001B[38;5;241m<\u001B[39m batch_size:\n\u001B[0;32m     35\u001B[0m     \u001B[38;5;28;01mreturn\u001B[39;00m\n\u001B[1;32m---> 37\u001B[0m states, actions, rewards, _states, done \u001B[38;5;241m=\u001B[39m \u001B[38;5;28;43mself\u001B[39;49m\u001B[38;5;241;43m.\u001B[39;49m\u001B[43mmemory\u001B[49m\u001B[38;5;241;43m.\u001B[39;49m\u001B[43msample_buffer\u001B[49m\u001B[43m(\u001B[49m\u001B[43mbatch_size\u001B[49m\u001B[43m)\u001B[49m\n\u001B[0;32m     39\u001B[0m states \u001B[38;5;241m=\u001B[39m T\u001B[38;5;241m.\u001B[39mtensor(states)\u001B[38;5;241m.\u001B[39mto(\u001B[38;5;28mself\u001B[39m\u001B[38;5;241m.\u001B[39mq\u001B[38;5;241m.\u001B[39mdevice)\n\u001B[0;32m     40\u001B[0m _states \u001B[38;5;241m=\u001B[39m T\u001B[38;5;241m.\u001B[39mtensor(_states)\u001B[38;5;241m.\u001B[39mto(\u001B[38;5;28mself\u001B[39m\u001B[38;5;241m.\u001B[39mq\u001B[38;5;241m.\u001B[39mdevice)\n",
      "Cell \u001B[1;32mIn[5], line 27\u001B[0m, in \u001B[0;36mReplayBuffer.sample_buffer\u001B[1;34m(self, batch_size)\u001B[0m\n\u001B[0;32m     24\u001B[0m \u001B[38;5;28;01mdef\u001B[39;00m \u001B[38;5;21msample_buffer\u001B[39m(\u001B[38;5;28mself\u001B[39m, batch_size):\n\u001B[0;32m     25\u001B[0m     max_mem \u001B[38;5;241m=\u001B[39m \u001B[38;5;28mmin\u001B[39m(\u001B[38;5;28mself\u001B[39m\u001B[38;5;241m.\u001B[39mmem_cntr, \u001B[38;5;28mself\u001B[39m\u001B[38;5;241m.\u001B[39mmem_size)\n\u001B[1;32m---> 27\u001B[0m     probs \u001B[38;5;241m=\u001B[39m \u001B[38;5;28;43mself\u001B[39;49m\u001B[38;5;241;43m.\u001B[39;49m\u001B[43m_softmax\u001B[49m\u001B[43m(\u001B[49m\u001B[43mnp\u001B[49m\u001B[38;5;241;43m.\u001B[39;49m\u001B[43mabs\u001B[49m\u001B[43m(\u001B[49m\u001B[38;5;28;43mself\u001B[39;49m\u001B[38;5;241;43m.\u001B[39;49m\u001B[43mreward_memory\u001B[49m\u001B[43m[\u001B[49m\u001B[43m:\u001B[49m\u001B[43mmax_mem\u001B[49m\u001B[43m]\u001B[49m\u001B[43m)\u001B[49m\u001B[43m)\u001B[49m\n\u001B[0;32m     28\u001B[0m     batch \u001B[38;5;241m=\u001B[39m np\u001B[38;5;241m.\u001B[39mrandom\u001B[38;5;241m.\u001B[39mchoice(max_mem, batch_size)\n\u001B[0;32m     30\u001B[0m     states \u001B[38;5;241m=\u001B[39m \u001B[38;5;28mself\u001B[39m\u001B[38;5;241m.\u001B[39mstate_memory[batch]\n",
      "Cell \u001B[1;32mIn[5], line 22\u001B[0m, in \u001B[0;36mReplayBuffer._softmax\u001B[1;34m(x)\u001B[0m\n\u001B[0;32m     20\u001B[0m \u001B[38;5;129m@staticmethod\u001B[39m\n\u001B[0;32m     21\u001B[0m \u001B[38;5;28;01mdef\u001B[39;00m \u001B[38;5;21m_softmax\u001B[39m(x: ndarray) \u001B[38;5;241m-\u001B[39m\u001B[38;5;241m>\u001B[39m ndarray:\n\u001B[1;32m---> 22\u001B[0m     \u001B[38;5;28;01mreturn\u001B[39;00m np\u001B[38;5;241m.\u001B[39mexp(x) \u001B[38;5;241m/\u001B[39m \u001B[43mnp\u001B[49m\u001B[38;5;241;43m.\u001B[39;49m\u001B[43mexp\u001B[49m\u001B[43m(\u001B[49m\u001B[43mx\u001B[49m\u001B[43m)\u001B[49m\u001B[38;5;241m.\u001B[39msum()\n",
      "\u001B[1;31mKeyboardInterrupt\u001B[0m: "
     ]
    }
   ],
   "source": [
    "model = DQN(learning_rate, state_size, action_size, 32, 32)\n",
    "\n",
    "agent = DQNAgent(action_size, state_size, learning_rate, model)\n",
    "\n",
    "agent.epsilon = 0.5\n",
    "\n",
    "done = False\n",
    "batch_size = 64\n",
    "EPISODES = 1000\n",
    "counter = 0\n",
    "for e in range(EPISODES):\n",
    "    summary = []\n",
    "    for _ in range(100):\n",
    "        total_reward = 0\n",
    "        state = env.reset().astype(np.float32)\n",
    "        \n",
    "        for time in range(300):\n",
    "            action = agent.get_action(state)\n",
    "            _state, reward, done, _ = env.step(action)\n",
    "            total_reward += reward\n",
    "            _state = _state.astype(np.float32)\n",
    "\n",
    "            agent.remember(state, action, reward, _state, done)\n",
    "            agent.learn(batch_size)\n",
    "            state = _state\n",
    "            if done:\n",
    "                break\n",
    "\n",
    "        summary.append(total_reward)\n",
    "\n",
    "    agent.update_epsilon_value()\n",
    "    print(\"epoch #{}\\tmean reward = {:.3f}\\tepsilon = {:.3f}\".format(e, np.mean(summary), agent.epsilon))\n",
    "    if np.mean(summary) > 195:\n",
    "        print (\"You Win!\")\n",
    "        break\n"
   ]
  },
  {
   "cell_type": "code",
   "execution_count": null,
   "metadata": {
    "collapsed": false
   },
   "outputs": [],
   "source": []
  }
 ],
 "metadata": {
  "kernelspec": {
   "display_name": "Python 3",
   "language": "python",
   "name": "python3"
  },
  "language_info": {
   "codemirror_mode": {
    "name": "ipython",
    "version": 3
   },
   "file_extension": ".py",
   "mimetype": "text/x-python",
   "name": "python",
   "nbconvert_exporter": "python",
   "pygments_lexer": "ipython3",
   "version": "3.9.16"
  }
 },
 "nbformat": 4,
 "nbformat_minor": 4
}
